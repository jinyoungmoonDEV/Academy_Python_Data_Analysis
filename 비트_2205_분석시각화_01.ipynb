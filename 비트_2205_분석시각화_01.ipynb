{
  "nbformat": 4,
  "nbformat_minor": 0,
  "metadata": {
    "colab": {
      "name": "비트 2205 분석시각화 01.ipynb",
      "provenance": [],
      "collapsed_sections": [],
      "authorship_tag": "ABX9TyMEyOKMsAx2BWP4hZwteh1w",
      "include_colab_link": true
    },
    "kernelspec": {
      "name": "python3",
      "display_name": "Python 3"
    },
    "language_info": {
      "name": "python"
    }
  },
  "cells": [
    {
      "cell_type": "markdown",
      "metadata": {
        "id": "view-in-github",
        "colab_type": "text"
      },
      "source": [
        "<a href=\"https://colab.research.google.com/github/jinyoungmoonDEV/Academy_Python_Data_Analysis/blob/main/%EB%B9%84%ED%8A%B8_2205_%EB%B6%84%EC%84%9D%EC%8B%9C%EA%B0%81%ED%99%94_01.ipynb\" target=\"_parent\"><img src=\"https://colab.research.google.com/assets/colab-badge.svg\" alt=\"Open In Colab\"/></a>"
      ]
    },
    {
      "cell_type": "markdown",
      "source": [
        "튜플 p88~p90"
      ],
      "metadata": {
        "id": "96jM_flWgjJG"
      }
    },
    {
      "cell_type": "code",
      "source": [
        "tu = 2,3\n",
        "print(type(tu))"
      ],
      "metadata": {
        "colab": {
          "base_uri": "https://localhost:8080/"
        },
        "id": "pfiKAkapeOyR",
        "outputId": "9d102f3f-8510-4064-dba0-3f31b0ddcf31"
      },
      "execution_count": 3,
      "outputs": [
        {
          "output_type": "stream",
          "name": "stdout",
          "text": [
            "<class 'tuple'>\n"
          ]
        }
      ]
    },
    {
      "cell_type": "code",
      "source": [
        "def get_sum_aver(data):\n",
        "  s = 0\n",
        "  for e in data:\n",
        "    s+=e\n",
        "    return s,s/len(data)"
      ],
      "metadata": {
        "id": "bUo1y2Ihemot"
      },
      "execution_count": 7,
      "outputs": []
    },
    {
      "cell_type": "code",
      "source": [
        "re = get_sum_aver([1,4,5,32,5])\n",
        "print(type(re))"
      ],
      "metadata": {
        "colab": {
          "base_uri": "https://localhost:8080/"
        },
        "id": "q-ESUXUhe34Y",
        "outputId": "1e4e5e91-6ba2-4ffa-f4e7-4672e2d8c2f1"
      },
      "execution_count": 8,
      "outputs": [
        {
          "output_type": "stream",
          "name": "stdout",
          "text": [
            "<class 'tuple'>\n"
          ]
        }
      ]
    },
    {
      "cell_type": "code",
      "source": [
        "a,b = re \n",
        "print(a,b)"
      ],
      "metadata": {
        "colab": {
          "base_uri": "https://localhost:8080/"
        },
        "id": "hfJDbZAne98v",
        "outputId": "0b5e9757-6465-4751-8c42-3c38c8343b6a"
      },
      "execution_count": 9,
      "outputs": [
        {
          "output_type": "stream",
          "name": "stdout",
          "text": [
            "1 0.2\n"
          ]
        }
      ]
    },
    {
      "cell_type": "code",
      "source": [
        "s,a = get_sum_aver([1,4,5,32,5])\n",
        "print(f\"합계:{s} 평균:{a:.2f}\")"
      ],
      "metadata": {
        "colab": {
          "base_uri": "https://localhost:8080/"
        },
        "id": "v4JRfHhSfKQV",
        "outputId": "6010e7ca-9f47-42f9-fa2b-f19d92c4178f"
      },
      "execution_count": 11,
      "outputs": [
        {
          "output_type": "stream",
          "name": "stdout",
          "text": [
            "합계:1 평균:0.20\n"
          ]
        }
      ]
    },
    {
      "cell_type": "markdown",
      "source": [
        "리스트\n"
      ],
      "metadata": {
        "id": "P0TGfUCkgvfO"
      }
    },
    {
      "cell_type": "code",
      "source": [
        "la = [2,3,4]\n",
        "lb = [4,2,1]\n",
        "lc = la+lb\n",
        "print(lc)"
      ],
      "metadata": {
        "colab": {
          "base_uri": "https://localhost:8080/"
        },
        "id": "prA9Kb33f35u",
        "outputId": "d22028a9-61d2-4899-e8a9-9fb117ec31e9"
      },
      "execution_count": 12,
      "outputs": [
        {
          "output_type": "stream",
          "name": "stdout",
          "text": [
            "[2, 3, 4, 4, 2, 1]\n"
          ]
        }
      ]
    },
    {
      "cell_type": "markdown",
      "source": [
        "왜 nump냐?"
      ],
      "metadata": {
        "id": "OtSBzvdchQum"
      }
    },
    {
      "cell_type": "code",
      "source": [
        "import numpy as np"
      ],
      "metadata": {
        "id": "ZDGrXuZ8hVMJ"
      },
      "execution_count": 14,
      "outputs": []
    },
    {
      "cell_type": "code",
      "source": [
        "na = np.array([1,2,3])\n",
        "nb = np.array([2,5,2])\n",
        "nc = na+nb\n",
        "print(nc)"
      ],
      "metadata": {
        "colab": {
          "base_uri": "https://localhost:8080/"
        },
        "id": "2HU_YXHHhbFG",
        "outputId": "1eceebe8-b9d8-4af9-fceb-e59e9cc1f7de"
      },
      "execution_count": 16,
      "outputs": [
        {
          "output_type": "stream",
          "name": "stdout",
          "text": [
            "[3 7 5]\n"
          ]
        }
      ]
    },
    {
      "cell_type": "markdown",
      "source": [
        "리스트컴프리핸션"
      ],
      "metadata": {
        "id": "GGGry96Mi1pL"
      }
    },
    {
      "cell_type": "code",
      "source": [
        "a = [x for x in range(10)]\n",
        "print(a)"
      ],
      "metadata": {
        "colab": {
          "base_uri": "https://localhost:8080/"
        },
        "id": "yqN4tnwbhdx_",
        "outputId": "42a93e11-b73f-44db-d86e-18deabab5fc1"
      },
      "execution_count": 17,
      "outputs": [
        {
          "output_type": "stream",
          "name": "stdout",
          "text": [
            "[0, 1, 2, 3, 4, 5, 6, 7, 8, 9]\n"
          ]
        }
      ]
    },
    {
      "cell_type": "code",
      "source": [
        "a = []\n",
        "for x in range(10):\n",
        "   a.append(x)\n",
        "print(a) "
      ],
      "metadata": {
        "colab": {
          "base_uri": "https://localhost:8080/"
        },
        "id": "PxB6NZcZhd5f",
        "outputId": "74f1df58-0423-47d6-dc24-98cf3a610f55"
      },
      "execution_count": 27,
      "outputs": [
        {
          "output_type": "stream",
          "name": "stdout",
          "text": [
            "[0, 1, 2, 3, 4, 5, 6, 7, 8, 9]\n"
          ]
        }
      ]
    },
    {
      "cell_type": "markdown",
      "source": [
        "데이터수집"
      ],
      "metadata": {
        "id": "7QoeQnn6kCXk"
      }
    },
    {
      "cell_type": "code",
      "source": [
        "import urllib.request"
      ],
      "metadata": {
        "id": "bE-K6uPrheBX"
      },
      "execution_count": 20,
      "outputs": []
    },
    {
      "cell_type": "code",
      "source": [
        "response = urllib.request.urlopen('http://ehpub.co.kr')\n",
        "print(response)"
      ],
      "metadata": {
        "colab": {
          "base_uri": "https://localhost:8080/"
        },
        "id": "sL7FdPkOheNX",
        "outputId": "4e3684f8-f9dc-423b-e724-feae8b89aaab"
      },
      "execution_count": 22,
      "outputs": [
        {
          "output_type": "stream",
          "name": "stdout",
          "text": [
            "<http.client.HTTPResponse object at 0x7f04b9e52d10>\n"
          ]
        }
      ]
    },
    {
      "cell_type": "code",
      "source": [
        "if response.getcode() != 200:\n",
        "  print(\"허걱!!!\")\n",
        "else:\n",
        "    print(\"웹 크롤링 성공\")"
      ],
      "metadata": {
        "colab": {
          "base_uri": "https://localhost:8080/"
        },
        "id": "r56aU9LwheRP",
        "outputId": "ebe51732-4db7-4008-d4c3-772fee72f7da"
      },
      "execution_count": 24,
      "outputs": [
        {
          "output_type": "stream",
          "name": "stdout",
          "text": [
            "웹 크롤링 성공\n"
          ]
        }
      ]
    },
    {
      "cell_type": "code",
      "source": [
        "result = response.read().decode('utf-8')\n",
        "print(result)"
      ],
      "metadata": {
        "id": "sIZKf3NFk5qf"
      },
      "execution_count": null,
      "outputs": []
    },
    {
      "cell_type": "markdown",
      "source": [
        "# 웹 스크래핑\n",
        "웹페이지 중에 일부 부분을 출출하는 작업"
      ],
      "metadata": {
        "id": "ONogxKaZobSl"
      }
    },
    {
      "cell_type": "code",
      "source": [
        "from bs4 import BeautifulSoup"
      ],
      "metadata": {
        "id": "6kaG3gYwlt6C"
      },
      "execution_count": 28,
      "outputs": []
    },
    {
      "cell_type": "markdown",
      "source": [
        "원하는 정보를 트리 형태로\n",
        "parsing하는 과정"
      ],
      "metadata": {
        "id": "4W0ZFLGEpbFn"
      }
    },
    {
      "cell_type": "code",
      "source": [
        "hdoc = BeautifulSoup(result,'html.parser')\n",
        "print(hdoc.body.get_text())"
      ],
      "metadata": {
        "id": "fLzuWPLYluHv"
      },
      "execution_count": null,
      "outputs": []
    },
    {
      "cell_type": "markdown",
      "source": [
        "OpenApi -1. 카카오API(도서 검색)"
      ],
      "metadata": {
        "id": "MgSksi5bpGl9"
      }
    },
    {
      "cell_type": "code",
      "source": [
        "mykey = 'bcdedbc207626d473b37f4479fa27414'#카카오 내 어플리케이션 REST API키"
      ],
      "metadata": {
        "id": "4PBq1I0cluKX"
      },
      "execution_count": 31,
      "outputs": []
    },
    {
      "cell_type": "code",
      "source": [
        "auth_key = \"KakaoAK \"+mykey #공백 있습니다. 주의하세요"
      ],
      "metadata": {
        "id": "uFXyfsctluOw"
      },
      "execution_count": 32,
      "outputs": []
    },
    {
      "cell_type": "markdown",
      "source": [
        "쿼리 문잘열 ; 사이트 주소와 사이트에 전달할 인자를 포함한 문자열\n",
        "사이트주소[?][변수=값][&변수=값]...\n",
        "\n",
        "예:\n",
        "\n",
        "사이트주소 - http://ehpub.co.kr\n",
        "\n",
        "id - eh\n",
        "\n",
        "name - 문진영\n",
        "\n",
        "쿼리 문자열 - http://ehpub.co.kr?id=eh&name=문진영"
      ],
      "metadata": {
        "id": "JrU7yKvqsPoS"
      }
    },
    {
      "cell_type": "code",
      "source": [
        "siteurl = 'https://dapi.kakao.com/v3/search/book'"
      ],
      "metadata": {
        "id": "c7xKVoMZluQ8"
      },
      "execution_count": 33,
      "outputs": []
    },
    {
      "cell_type": "code",
      "source": [
        "auth='Authorization'"
      ],
      "metadata": {
        "id": "MHuMw1AuluUv"
      },
      "execution_count": 35,
      "outputs": []
    },
    {
      "cell_type": "code",
      "source": [
        "p_target = \"target=title\""
      ],
      "metadata": {
        "id": "7JIbYDD_luXU"
      },
      "execution_count": 36,
      "outputs": []
    },
    {
      "cell_type": "code",
      "source": [
        "query = input(\"검색어:\")\n",
        "p_query = \"query=\"+urllib.parse.quote(query) #쿼리를 utf-8 인코딩한 후 p_quert에 값으로 추가"
      ],
      "metadata": {
        "colab": {
          "base_uri": "https://localhost:8080/"
        },
        "id": "qP54CJyoluZo",
        "outputId": "43a01876-5a12-4922-c2e6-eea9607aff64"
      },
      "execution_count": 39,
      "outputs": [
        {
          "name": "stdout",
          "output_type": "stream",
          "text": [
            "검색어:파이썬\n"
          ]
        }
      ]
    },
    {
      "cell_type": "code",
      "source": [
        "query_str = siteurl+'?'+p_target+'&'+p_query\n",
        "print(query_str)"
      ],
      "metadata": {
        "colab": {
          "base_uri": "https://localhost:8080/"
        },
        "id": "P9_a-rbxlubn",
        "outputId": "0034fc0f-f49a-4b66-9174-090eaaac34d4"
      },
      "execution_count": 40,
      "outputs": [
        {
          "output_type": "stream",
          "name": "stdout",
          "text": [
            "https://dapi.kakao.com/v3/search/book?target=title&query=%ED%8C%8C%EC%9D%B4%EC%8D%AC\n"
          ]
        }
      ]
    },
    {
      "cell_type": "markdown",
      "source": [
        "request = 웹사이트에 요청할수 있는 객체\n",
        "\n"
      ],
      "metadata": {
        "id": "puIzbxelwoDe"
      }
    },
    {
      "cell_type": "code",
      "source": [
        "request = urllib.request.Request(query_str) #인증 등의 헤더를 전달할 떄는 Request 개체를 생성\n",
        "request.add_header(auth,auth_key)#헤더 추가"
      ],
      "metadata": {
        "id": "FOZT0n70lud1"
      },
      "execution_count": 56,
      "outputs": []
    },
    {
      "cell_type": "code",
      "source": [
        "response = urllib.request.urlopen(request) #입력 인자로 사이트 주소 혹은 request 개체 전달"
      ],
      "metadata": {
        "id": "O-sHv50wlugK"
      },
      "execution_count": 57,
      "outputs": []
    },
    {
      "cell_type": "code",
      "source": [
        "if response.getcode() != 200:\n",
        "  print(\"허걱\")\n",
        "else:\n",
        "  print(\"요청성공\")"
      ],
      "metadata": {
        "colab": {
          "base_uri": "https://localhost:8080/"
        },
        "id": "946C9apsluiY",
        "outputId": "df39743f-3599-4029-eccb-bdfb8964fee3"
      },
      "execution_count": 58,
      "outputs": [
        {
          "output_type": "stream",
          "name": "stdout",
          "text": [
            "요청성공\n"
          ]
        }
      ]
    },
    {
      "cell_type": "code",
      "source": [
        "result = response.read().decode('utf-8')\n",
        "print(result)"
      ],
      "metadata": {
        "id": "5oOFyxfflukw"
      },
      "execution_count": null,
      "outputs": []
    },
    {
      "cell_type": "code",
      "source": [
        "import json"
      ],
      "metadata": {
        "id": "nv2amft2lunM"
      },
      "execution_count": 60,
      "outputs": []
    },
    {
      "cell_type": "code",
      "source": [
        "jdata = json.loads(result)\n",
        "meta = jdata['meta']\n",
        "print(meta)"
      ],
      "metadata": {
        "colab": {
          "base_uri": "https://localhost:8080/"
        },
        "id": "UjO_DKA41rKS",
        "outputId": "1c5387b7-dcea-43f1-9928-93fc85a40abf"
      },
      "execution_count": 61,
      "outputs": [
        {
          "output_type": "stream",
          "name": "stdout",
          "text": [
            "{'is_end': False, 'pageable_count': 1000, 'total_count': 3096}\n"
          ]
        }
      ]
    },
    {
      "cell_type": "code",
      "source": [
        "documents = jdata['documents']\n",
        "print(documents)"
      ],
      "metadata": {
        "id": "dzLhz7LE2BPm"
      },
      "execution_count": null,
      "outputs": []
    },
    {
      "cell_type": "code",
      "source": [
        "for document in documents:\n",
        "  print('==========================')\n",
        "  print(\"제목:\",document['title'])\n",
        "  print(\"저자 목록:\",document['authors'])\n"
      ],
      "metadata": {
        "id": "sWGHqYur2J2W"
      },
      "execution_count": null,
      "outputs": []
    },
    {
      "cell_type": "markdown",
      "source": [
        "네이버 개발자 센터 - 도서 검색(XML방식)"
      ],
      "metadata": {
        "id": "uraM5cPr5Rqd"
      }
    },
    {
      "cell_type": "code",
      "source": [
        "client_id = 'Xxhh8sGYq1WU1pdXdUqB'\n",
        "client_seceret = 'x45nnxHUyq'"
      ],
      "metadata": {
        "id": "klA33abL2i5c"
      },
      "execution_count": 76,
      "outputs": []
    },
    {
      "cell_type": "code",
      "source": [
        "site_url = 'https://openapi.naver.com/v1/search/book.xml'"
      ],
      "metadata": {
        "id": "EpTTPvnn2jjB"
      },
      "execution_count": 77,
      "outputs": []
    },
    {
      "cell_type": "code",
      "source": [
        "query = input(\"검색어:\")"
      ],
      "metadata": {
        "colab": {
          "base_uri": "https://localhost:8080/"
        },
        "id": "KxDXWQa-2kdm",
        "outputId": "84eacc4d-aee5-4ba2-bf72-dc9125cb7d29"
      },
      "execution_count": 79,
      "outputs": [
        {
          "name": "stdout",
          "output_type": "stream",
          "text": [
            "검색어:파이썬\n"
          ]
        }
      ]
    },
    {
      "cell_type": "code",
      "source": [
        "q_param = \"query=\"+urllib.parse.quote(query)\n",
        "print(q_param)"
      ],
      "metadata": {
        "colab": {
          "base_uri": "https://localhost:8080/"
        },
        "id": "bgXio-ED2k-w",
        "outputId": "d4094950-c87e-47fc-f664-6b109d0178a5"
      },
      "execution_count": 81,
      "outputs": [
        {
          "output_type": "stream",
          "name": "stdout",
          "text": [
            "query=%ED%8C%8C%EC%9D%B4%EC%8D%AC\n"
          ]
        }
      ]
    },
    {
      "cell_type": "code",
      "source": [
        "query_str = site_url+'?'+q_param\n",
        "print(query_str)"
      ],
      "metadata": {
        "colab": {
          "base_uri": "https://localhost:8080/"
        },
        "id": "z9ye61kC2lWu",
        "outputId": "f2929caa-7cb4-465e-868e-dcaeaeef619e"
      },
      "execution_count": 82,
      "outputs": [
        {
          "output_type": "stream",
          "name": "stdout",
          "text": [
            "https://openapi.naver.com/v1/search/book.xml?query=%ED%8C%8C%EC%9D%B4%EC%8D%AC\n"
          ]
        }
      ]
    },
    {
      "cell_type": "code",
      "source": [
        "cid='X-Naver-Client-Id'\n",
        "csec = 'X-Naver-Client-Secret'"
      ],
      "metadata": {
        "id": "gyi5gJHU64ci"
      },
      "execution_count": 84,
      "outputs": []
    },
    {
      "cell_type": "code",
      "source": [
        "request = urllib.request.Request(query_str) #요청 가능한 개체 생성\n",
        "request.add_header(cid,client_id) #해더에 client id 추가\n",
        "request.add_header(csec,client_seceret) # 해더 clientseceret 추가"
      ],
      "metadata": {
        "id": "FMeWNy1C7Lx0"
      },
      "execution_count": 85,
      "outputs": []
    },
    {
      "cell_type": "code",
      "source": [
        "response = urllib.request.urlopen(request)\n",
        "if response.getcode() != 200:\n",
        "  print(\"요청 실패!!\")\n",
        "else:\n",
        "  print(\"성공!!\")"
      ],
      "metadata": {
        "colab": {
          "base_uri": "https://localhost:8080/"
        },
        "id": "vKvoDYH065RE",
        "outputId": "3805bcbc-b840-4f8e-fff9-6450c090e8d4"
      },
      "execution_count": 87,
      "outputs": [
        {
          "output_type": "stream",
          "name": "stdout",
          "text": [
            "성공!!\n"
          ]
        }
      ]
    },
    {
      "cell_type": "code",
      "source": [
        "data = response.read().decode('utf-8')\n",
        "print(data)"
      ],
      "metadata": {
        "id": "v-lYSCWE66Kt"
      },
      "execution_count": null,
      "outputs": []
    },
    {
      "cell_type": "code",
      "source": [
        ""
      ],
      "metadata": {
        "id": "eloPQkRF66W5"
      },
      "execution_count": 88,
      "outputs": []
    },
    {
      "cell_type": "code",
      "source": [
        ""
      ],
      "metadata": {
        "id": "V8DU9JDG66n-"
      },
      "execution_count": null,
      "outputs": []
    }
  ]
}