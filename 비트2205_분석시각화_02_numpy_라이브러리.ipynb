{
  "nbformat": 4,
  "nbformat_minor": 0,
  "metadata": {
    "colab": {
      "name": "비트2205 분석시각화 02 - numpy 라이브러리.ipynb",
      "provenance": [],
      "collapsed_sections": [],
      "authorship_tag": "ABX9TyMXqohdL0Ywt6YzwNHNI3y8",
      "include_colab_link": true
    },
    "kernelspec": {
      "name": "python3",
      "display_name": "Python 3"
    },
    "language_info": {
      "name": "python"
    }
  },
  "cells": [
    {
      "cell_type": "markdown",
      "metadata": {
        "id": "view-in-github",
        "colab_type": "text"
      },
      "source": [
        "<a href=\"https://colab.research.google.com/github/jinyoungmoonDEV/Academy_Python_Data_Analysis/blob/main/%EB%B9%84%ED%8A%B82205_%EB%B6%84%EC%84%9D%EC%8B%9C%EA%B0%81%ED%99%94_02_numpy_%EB%9D%BC%EC%9D%B4%EB%B8%8C%EB%9F%AC%EB%A6%AC.ipynb\" target=\"_parent\"><img src=\"https://colab.research.google.com/assets/colab-badge.svg\" alt=\"Open In Colab\"/></a>"
      ]
    },
    {
      "cell_type": "markdown",
      "source": [
        "# Numpy 라이브러리\n",
        "매뉴얼 사이트 : https://numpy.org/"
      ],
      "metadata": {
        "id": "s0xlp6ZTIhOP"
      }
    },
    {
      "cell_type": "code",
      "source": [
        "import numpy as np"
      ],
      "metadata": {
        "id": "oOf8AMJpIonW"
      },
      "execution_count": null,
      "outputs": []
    },
    {
      "cell_type": "code",
      "source": [
        "ls = [1,2,5,6,7]\n",
        "arr = np.array(ls)\n",
        "print(arr)"
      ],
      "metadata": {
        "colab": {
          "base_uri": "https://localhost:8080/"
        },
        "id": "2PorR6wIJKcf",
        "outputId": "17428fe8-1dc4-4b40-de35-49bb1c2b1264"
      },
      "execution_count": null,
      "outputs": [
        {
          "output_type": "stream",
          "name": "stdout",
          "text": [
            "[1 2 5 6 7]\n"
          ]
        }
      ]
    },
    {
      "cell_type": "code",
      "source": [
        "ls2 = [1,'a',2.3]\n",
        "arr2 = np.array(ls2)\n",
        "print(type(ls2[0]), type(ls2[1]),type(ls2[2]))\n",
        "print(type(arr2[0]), type(arr2[1]),type(arr2[2]))\n",
        "print(arr2)"
      ],
      "metadata": {
        "colab": {
          "base_uri": "https://localhost:8080/"
        },
        "id": "i0DTDNa8JK5V",
        "outputId": "89aca112-9952-45cb-a42d-fa56c0fd0931"
      },
      "execution_count": null,
      "outputs": [
        {
          "output_type": "stream",
          "name": "stdout",
          "text": [
            "<class 'int'> <class 'str'> <class 'float'>\n",
            "<class 'numpy.str_'> <class 'numpy.str_'> <class 'numpy.str_'>\n",
            "['1' 'a' '2.3']\n"
          ]
        }
      ]
    },
    {
      "cell_type": "code",
      "source": [
        "ls3 = [[1,2,3],[2,3],[4,5,6,7]]\n",
        "#arr3 = np.array(ls3) numpy의 배열은 원소 형식이 같아야 한다\n",
        "arr3 = np.array([[1,2],[3,4],[5,6]])\n",
        "print(arr3)"
      ],
      "metadata": {
        "colab": {
          "base_uri": "https://localhost:8080/"
        },
        "id": "CPCBCw5MKSl4",
        "outputId": "626ab366-7c15-4c09-c818-24acabd8cd4a"
      },
      "execution_count": null,
      "outputs": [
        {
          "output_type": "stream",
          "name": "stdout",
          "text": [
            "[[1 2]\n",
            " [3 4]\n",
            " [5 6]]\n"
          ]
        }
      ]
    },
    {
      "cell_type": "code",
      "source": [
        "ls4 = list(range(10))\n",
        "arr4 = np.arange(10)\n",
        "print(arr4)"
      ],
      "metadata": {
        "colab": {
          "base_uri": "https://localhost:8080/"
        },
        "id": "HSUREtyoLfo3",
        "outputId": "a963cdc0-09ee-4af6-b9fe-2e0655d4d409"
      },
      "execution_count": null,
      "outputs": [
        {
          "output_type": "stream",
          "name": "stdout",
          "text": [
            "[0 1 2 3 4 5 6 7 8 9]\n"
          ]
        }
      ]
    },
    {
      "cell_type": "code",
      "source": [
        "ls5 = ls4*2\n",
        "arr5 = arr4*2 #numpy 배열은 행렬 연산을 제공한다.\n",
        "print(ls5)\n",
        "print('--')\n",
        "print(arr5)"
      ],
      "metadata": {
        "colab": {
          "base_uri": "https://localhost:8080/"
        },
        "id": "nsxjgRdFLwZ4",
        "outputId": "7dc9e522-a7a8-4288-e589-bf91222d347b"
      },
      "execution_count": null,
      "outputs": [
        {
          "output_type": "stream",
          "name": "stdout",
          "text": [
            "[0, 1, 2, 3, 4, 5, 6, 7, 8, 9, 0, 1, 2, 3, 4, 5, 6, 7, 8, 9]\n",
            "--\n",
            "[ 0  2  4  6  8 10 12 14 16 18]\n"
          ]
        }
      ]
    },
    {
      "cell_type": "markdown",
      "source": [
        "# 다차원 배열"
      ],
      "metadata": {
        "id": "CfQKkZcCNCfl"
      }
    },
    {
      "cell_type": "code",
      "source": [
        "arr = np.array([1,2,3])\n",
        "arr.shape"
      ],
      "metadata": {
        "colab": {
          "base_uri": "https://localhost:8080/"
        },
        "id": "ft2D2q1HNAXS",
        "outputId": "f3955b2f-e1ae-40bf-b9a9-46c56f2eff71"
      },
      "execution_count": null,
      "outputs": [
        {
          "output_type": "execute_result",
          "data": {
            "text/plain": [
              "(3,)"
            ]
          },
          "metadata": {},
          "execution_count": 15
        }
      ]
    },
    {
      "cell_type": "code",
      "source": [
        "arr2 = np.array([[1,2,3],[4,5,6]])\n",
        "arr2.shape"
      ],
      "metadata": {
        "colab": {
          "base_uri": "https://localhost:8080/"
        },
        "id": "mt71iTZ4MOeV",
        "outputId": "12fe30c3-7c48-470f-b8c0-e3391cdc4002"
      },
      "execution_count": null,
      "outputs": [
        {
          "output_type": "execute_result",
          "data": {
            "text/plain": [
              "(2, 3)"
            ]
          },
          "metadata": {},
          "execution_count": 17
        }
      ]
    },
    {
      "cell_type": "code",
      "source": [
        "arr3 = np.random.randn(2,3)\n",
        "print(arr3.shape)\n",
        "print(arr3)"
      ],
      "metadata": {
        "colab": {
          "base_uri": "https://localhost:8080/"
        },
        "id": "0u7JHOwHNTpN",
        "outputId": "a250ec16-0401-49a5-b148-ad43812339cf"
      },
      "execution_count": null,
      "outputs": [
        {
          "output_type": "stream",
          "name": "stdout",
          "text": [
            "(2, 3)\n",
            "[[-0.24800511 -0.54210613 -0.02468297]\n",
            " [ 0.06869218 -0.10911636  0.041631  ]]\n"
          ]
        }
      ]
    },
    {
      "cell_type": "code",
      "source": [
        "arr1 = np.array([[1,2],[3,4]])\n",
        "arr2 = np.array([[5,2],[1,3]])\n",
        "arr3 = arr1+arr2\n",
        "print(arr3)"
      ],
      "metadata": {
        "colab": {
          "base_uri": "https://localhost:8080/"
        },
        "id": "FTZgXjv9N-Ug",
        "outputId": "5011ec91-3ad2-4925-8434-5fa4c90d9319"
      },
      "execution_count": null,
      "outputs": [
        {
          "output_type": "stream",
          "name": "stdout",
          "text": [
            "[[6 4]\n",
            " [4 7]]\n"
          ]
        }
      ]
    },
    {
      "cell_type": "code",
      "source": [
        "arr = np.array([1,2,'a',3.23])\n",
        "arr.dtype"
      ],
      "metadata": {
        "colab": {
          "base_uri": "https://localhost:8080/"
        },
        "id": "FQYk5Lo2OV0f",
        "outputId": "c6ca83e8-afff-427a-c809-54a868ebf277"
      },
      "execution_count": null,
      "outputs": [
        {
          "output_type": "execute_result",
          "data": {
            "text/plain": [
              "dtype('<U32')"
            ]
          },
          "metadata": {},
          "execution_count": 23
        }
      ]
    },
    {
      "cell_type": "code",
      "source": [
        "arr = np.array([1,2,3,4])\n",
        "arr.dtype"
      ],
      "metadata": {
        "colab": {
          "base_uri": "https://localhost:8080/"
        },
        "id": "ziQ1dGW2OjIp",
        "outputId": "89910e56-65d0-4bfe-c790-55af5cb50f81"
      },
      "execution_count": null,
      "outputs": [
        {
          "output_type": "execute_result",
          "data": {
            "text/plain": [
              "dtype('int64')"
            ]
          },
          "metadata": {},
          "execution_count": 26
        }
      ]
    },
    {
      "cell_type": "code",
      "source": [
        "arr = np.array([1,2,3,4.0])\n",
        "arr.dtype"
      ],
      "metadata": {
        "colab": {
          "base_uri": "https://localhost:8080/"
        },
        "id": "MrWKKugTOvUt",
        "outputId": "246c74cf-40e7-45d5-c1d5-7c7055ce25e6"
      },
      "execution_count": null,
      "outputs": [
        {
          "output_type": "execute_result",
          "data": {
            "text/plain": [
              "dtype('float64')"
            ]
          },
          "metadata": {},
          "execution_count": 27
        }
      ]
    },
    {
      "cell_type": "code",
      "source": [
        "arr = np.array([1,'a',2.3])\n",
        "print(type(arr[0]), type(arr[1]), type(arr[2]))\n",
        "print(arr.dtype)"
      ],
      "metadata": {
        "colab": {
          "base_uri": "https://localhost:8080/"
        },
        "id": "OhDpfzuXOyWi",
        "outputId": "3e57d5b7-409d-4356-8bed-24b86137fafa"
      },
      "execution_count": null,
      "outputs": [
        {
          "output_type": "stream",
          "name": "stdout",
          "text": [
            "<class 'numpy.str_'> <class 'numpy.str_'> <class 'numpy.str_'>\n",
            "<U32\n"
          ]
        }
      ]
    },
    {
      "cell_type": "markdown",
      "source": [
        "# 배열 생성"
      ],
      "metadata": {
        "id": "-ygPWha-PeFl"
      }
    },
    {
      "cell_type": "code",
      "source": [
        "arr = np.array([1,2,3]) #리스트를 입력 인자로 배열 객체 생성\n",
        "print(arr)"
      ],
      "metadata": {
        "colab": {
          "base_uri": "https://localhost:8080/"
        },
        "id": "7WIIf86rPgrW",
        "outputId": "53829325-317b-46f0-bf68-d123d28cccfa"
      },
      "execution_count": null,
      "outputs": [
        {
          "output_type": "stream",
          "name": "stdout",
          "text": [
            "[1 2 3]\n"
          ]
        }
      ]
    },
    {
      "cell_type": "code",
      "source": [
        "arr2 = np.array([[1,2,3],[4,5,6]]) #리스트를 입력 인자로 배열 객체 생성(다차원 배열)\n",
        "print(arr2)"
      ],
      "metadata": {
        "colab": {
          "base_uri": "https://localhost:8080/"
        },
        "id": "6fL6Nrt3PpRk",
        "outputId": "91803841-2ba0-414b-8257-da1167e330d0"
      },
      "execution_count": null,
      "outputs": [
        {
          "output_type": "stream",
          "name": "stdout",
          "text": [
            "[[1 2 3]\n",
            " [4 5 6]]\n"
          ]
        }
      ]
    },
    {
      "cell_type": "code",
      "source": [
        "print(\"차원:\",arr2.ndim)\n",
        "print(\"구조:\",arr2.shape)"
      ],
      "metadata": {
        "colab": {
          "base_uri": "https://localhost:8080/"
        },
        "id": "k79ErWcYPykP",
        "outputId": "63cf47a2-6914-4a45-9876-fdcfa727eaca"
      },
      "execution_count": null,
      "outputs": [
        {
          "output_type": "stream",
          "name": "stdout",
          "text": [
            "차원: 2\n",
            "구조: (2, 3)\n"
          ]
        }
      ]
    },
    {
      "cell_type": "code",
      "source": [
        "arr3 = np.zeros(10)#0을 원소로 하는 배열\n",
        "print(arr3)"
      ],
      "metadata": {
        "colab": {
          "base_uri": "https://localhost:8080/"
        },
        "id": "Mg1DHol4QB9i",
        "outputId": "392998d6-643b-4bfd-a1d1-f4a14496b007"
      },
      "execution_count": null,
      "outputs": [
        {
          "output_type": "stream",
          "name": "stdout",
          "text": [
            "[0. 0. 0. 0. 0. 0. 0. 0. 0. 0.]\n"
          ]
        }
      ]
    },
    {
      "cell_type": "code",
      "source": [
        "arr4 = np.zeros((4,5))#0을 원소로 4X5 구조의 배열 생성\n",
        "print(arr4)"
      ],
      "metadata": {
        "colab": {
          "base_uri": "https://localhost:8080/"
        },
        "id": "PqBCn_rYQsQy",
        "outputId": "9849d0cb-267f-4ccb-f238-97ada04bf52c"
      },
      "execution_count": null,
      "outputs": [
        {
          "output_type": "stream",
          "name": "stdout",
          "text": [
            "[[0. 0. 0. 0. 0.]\n",
            " [0. 0. 0. 0. 0.]\n",
            " [0. 0. 0. 0. 0.]\n",
            " [0. 0. 0. 0. 0.]]\n"
          ]
        }
      ]
    },
    {
      "cell_type": "code",
      "source": [
        "arr5 = np.ones(10)#0을 우너소로 하는 배열\n",
        "print(arr5)\n",
        "arr6 = np.ones((2,3))\n",
        "print(arr6)"
      ],
      "metadata": {
        "colab": {
          "base_uri": "https://localhost:8080/"
        },
        "id": "y56k8eKLQ9Ur",
        "outputId": "d6c13615-8870-4ae8-87e6-ffde13cd833e"
      },
      "execution_count": null,
      "outputs": [
        {
          "output_type": "stream",
          "name": "stdout",
          "text": [
            "[1. 1. 1. 1. 1. 1. 1. 1. 1. 1.]\n",
            "[[1. 1. 1.]\n",
            " [1. 1. 1.]]\n"
          ]
        }
      ]
    },
    {
      "cell_type": "code",
      "source": [
        "arr7 = np.arange(5,100,3)\n",
        "print(arr7)"
      ],
      "metadata": {
        "colab": {
          "base_uri": "https://localhost:8080/"
        },
        "id": "0WfhYlbwRMLe",
        "outputId": "cb8d2693-b86d-49dc-c70a-4be1a125aed9"
      },
      "execution_count": null,
      "outputs": [
        {
          "output_type": "stream",
          "name": "stdout",
          "text": [
            "[ 5  8 11 14 17 20 23 26 29 32 35 38 41 44 47 50 53 56 59 62 65 68 71 74\n",
            " 77 80 83 86 89 92 95 98]\n"
          ]
        }
      ]
    },
    {
      "cell_type": "markdown",
      "source": [
        "# 원소 타입"
      ],
      "metadata": {
        "id": "iCWk59q3WEyA"
      }
    },
    {
      "cell_type": "code",
      "source": [
        "arr = np.array([1,2,3])\n",
        "print(arr.dtype)"
      ],
      "metadata": {
        "colab": {
          "base_uri": "https://localhost:8080/"
        },
        "id": "cj2AbwEWRMUN",
        "outputId": "4df7b794-3ce0-43cd-9532-fee99824707e"
      },
      "execution_count": null,
      "outputs": [
        {
          "output_type": "stream",
          "name": "stdout",
          "text": [
            "int64\n"
          ]
        }
      ]
    },
    {
      "cell_type": "code",
      "source": [
        "arr2 = np.array([1.2,3.4,3])\n",
        "print(arr2.dtype)"
      ],
      "metadata": {
        "colab": {
          "base_uri": "https://localhost:8080/"
        },
        "id": "GK9TwthmRMdA",
        "outputId": "839dc831-cf06-4046-8fe4-8f0259e39200"
      },
      "execution_count": null,
      "outputs": [
        {
          "output_type": "stream",
          "name": "stdout",
          "text": [
            "float64\n"
          ]
        }
      ]
    },
    {
      "cell_type": "code",
      "source": [
        "arr3 = np.array([1,2,3,4], dtype=np.float64)\n",
        "print(arr3.dtype)"
      ],
      "metadata": {
        "colab": {
          "base_uri": "https://localhost:8080/"
        },
        "id": "WY24wdH4RMld",
        "outputId": "0e11b887-99d6-4b9f-f608-9aeefde7a038"
      },
      "execution_count": null,
      "outputs": [
        {
          "output_type": "stream",
          "name": "stdout",
          "text": [
            "float64\n"
          ]
        }
      ]
    },
    {
      "cell_type": "code",
      "source": [
        "arr3 = np.array([1,2,3,4], dtype=np.float64)\n",
        "print(arr3)\n",
        "arr4 = arr3.astype(int)\n",
        "print(arr3)#반환만하고 원본은 바뀌지 않는다\n",
        "print(arr4)"
      ],
      "metadata": {
        "colab": {
          "base_uri": "https://localhost:8080/"
        },
        "id": "g_57FZ6_RMxX",
        "outputId": "9e5d2640-c6a4-48f2-96dc-1bba175ee2fc"
      },
      "execution_count": null,
      "outputs": [
        {
          "output_type": "stream",
          "name": "stdout",
          "text": [
            "[1. 2. 3. 4.]\n",
            "[1 2 3 4]\n"
          ]
        }
      ]
    },
    {
      "cell_type": "markdown",
      "source": [
        "# 산술 연산"
      ],
      "metadata": {
        "id": "fKQ2nDgUXio1"
      }
    },
    {
      "cell_type": "code",
      "source": [
        "arr1 = np.array([[1,2,3],[3,4,5]])\n",
        "arr2 = np.array([[2,1,0],[1,2,3]])\n",
        "print(\"arr1\\n\", arr1)\n",
        "print(\"arr2\\n\", arr2)"
      ],
      "metadata": {
        "colab": {
          "base_uri": "https://localhost:8080/"
        },
        "id": "dUZyFAGNRM61",
        "outputId": "51b18428-e2c0-430f-e84a-3b263d1161a9"
      },
      "execution_count": null,
      "outputs": [
        {
          "output_type": "stream",
          "name": "stdout",
          "text": [
            "arr1\n",
            " [[1 2 3]\n",
            " [3 4 5]]\n",
            "arr2\n",
            " [[2 1 0]\n",
            " [1 2 3]]\n"
          ]
        }
      ]
    },
    {
      "cell_type": "code",
      "source": [
        "arr3 = arr1+arr2\n",
        "print(\"arr1+arr2\\n\", arr3)"
      ],
      "metadata": {
        "colab": {
          "base_uri": "https://localhost:8080/"
        },
        "id": "4QvGkpQMRNG1",
        "outputId": "272d985d-e968-4dad-938e-b788704a0a43"
      },
      "execution_count": null,
      "outputs": [
        {
          "output_type": "stream",
          "name": "stdout",
          "text": [
            "arr1+arr2\n",
            " [[3 3 3]\n",
            " [4 6 8]]\n"
          ]
        }
      ]
    },
    {
      "cell_type": "code",
      "source": [
        "arr4 = arr1-arr2\n",
        "print(\"arr1-arr2\\n\", arr4)"
      ],
      "metadata": {
        "colab": {
          "base_uri": "https://localhost:8080/"
        },
        "id": "_BFvz1AEYDLK",
        "outputId": "dc75e85d-32fc-4031-f7a4-bf0ff6951152"
      },
      "execution_count": null,
      "outputs": [
        {
          "output_type": "stream",
          "name": "stdout",
          "text": [
            "arr1-arr2\n",
            " [[-1  1  3]\n",
            " [ 2  2  2]]\n"
          ]
        }
      ]
    },
    {
      "cell_type": "code",
      "source": [
        "arr5 = arr1*arr2\n",
        "print(\"arr1*arr2\\n\", arr5)"
      ],
      "metadata": {
        "colab": {
          "base_uri": "https://localhost:8080/"
        },
        "id": "HVtTGo-iYJC1",
        "outputId": "fbc28e46-dd98-4306-a255-99b29b590eef"
      },
      "execution_count": null,
      "outputs": [
        {
          "output_type": "stream",
          "name": "stdout",
          "text": [
            "arr1*arr2\n",
            " [[ 2  2  0]\n",
            " [ 3  8 15]]\n"
          ]
        }
      ]
    },
    {
      "cell_type": "code",
      "source": [
        "#arr6 = np.dot(arr1,arr2) 내적은 앞쪽 행렬의 열과 뒤쪽 행렬의 크기가 같아야 한다\n",
        "#print(arr6)"
      ],
      "metadata": {
        "id": "pP7AO5TiYjX2"
      },
      "execution_count": null,
      "outputs": []
    },
    {
      "cell_type": "code",
      "source": [
        "arr7 = arr1/3.0\n",
        "print(\"arr1/3.0\\n\",arr7)"
      ],
      "metadata": {
        "colab": {
          "base_uri": "https://localhost:8080/"
        },
        "id": "3blAcIFaZGAq",
        "outputId": "b57697a8-a73a-4366-827f-830db0227b06"
      },
      "execution_count": null,
      "outputs": [
        {
          "output_type": "stream",
          "name": "stdout",
          "text": [
            "arr1/3.0\n",
            " [[0.33333333 0.66666667 1.        ]\n",
            " [1.         1.33333333 1.66666667]]\n"
          ]
        }
      ]
    },
    {
      "cell_type": "code",
      "source": [
        "arr8= arr1*3.0\n",
        "print(\"arr1*3.0\\n\",arr8)"
      ],
      "metadata": {
        "colab": {
          "base_uri": "https://localhost:8080/"
        },
        "id": "iSXfX5bvZX3P",
        "outputId": "06353acc-d678-4f40-ae69-b8067946c734"
      },
      "execution_count": null,
      "outputs": [
        {
          "output_type": "stream",
          "name": "stdout",
          "text": [
            "arr1*3.0\n",
            " [[ 3.  6.  9.]\n",
            " [ 9. 12. 15.]]\n"
          ]
        }
      ]
    },
    {
      "cell_type": "markdown",
      "source": [
        "# 간단 활용 예"
      ],
      "metadata": {
        "id": "Ec43d9SxZfrN"
      }
    },
    {
      "cell_type": "code",
      "source": [
        "heights = np.random.normal(172.5,scale=5,size=1000)\n",
        "print(sum(heights)/len(heights))"
      ],
      "metadata": {
        "colab": {
          "base_uri": "https://localhost:8080/"
        },
        "id": "OYmce_9XZepw",
        "outputId": "1431add8-2f3e-41d2-b5bf-f88276853f53"
      },
      "execution_count": null,
      "outputs": [
        {
          "output_type": "stream",
          "name": "stdout",
          "text": [
            "172.7725682903013\n"
          ]
        }
      ]
    },
    {
      "cell_type": "code",
      "source": [
        "import matplotlib.pyplot as plt\n",
        "plt.plot(heights, '.')\n",
        "plt.show()"
      ],
      "metadata": {
        "id": "OFOyrvkiZ3sq"
      },
      "execution_count": null,
      "outputs": []
    },
    {
      "cell_type": "code",
      "source": [
        "bins=np.zeros(59)\n",
        "for height in heights:\n",
        "  index = int(height)-150\n",
        "  bins[index]=bins[index]+1\n",
        "print(bins)"
      ],
      "metadata": {
        "id": "nPrPcw6laVN_"
      },
      "execution_count": null,
      "outputs": []
    },
    {
      "cell_type": "code",
      "source": [
        "plt.plot(bins, '.')\n",
        "plt.show()"
      ],
      "metadata": {
        "id": "-qaasr-tbZuO"
      },
      "execution_count": null,
      "outputs": []
    },
    {
      "cell_type": "code",
      "source": [
        "bmis = np.random.normal(22,scale=2,size=1000)\n",
        "print(sum(bmis)/len(bmis))"
      ],
      "metadata": {
        "colab": {
          "base_uri": "https://localhost:8080/"
        },
        "id": "4XjpbGWeb2KE",
        "outputId": "56827e51-6616-4147-81cc-ea4ef17a0aa5"
      },
      "execution_count": null,
      "outputs": [
        {
          "output_type": "stream",
          "name": "stdout",
          "text": [
            "21.95046861799063\n"
          ]
        }
      ]
    },
    {
      "cell_type": "code",
      "source": [
        "bins2=np.zeros(200)\n",
        "for bmi in bmis:\n",
        "  index = int(bmi*10)-120\n",
        "  bins2[index]=bins2[index]+1\n",
        "plt.plot(bins2, '.')\n",
        "print(bins2)"
      ],
      "metadata": {
        "id": "XsdhaHVvcKT3"
      },
      "execution_count": null,
      "outputs": []
    },
    {
      "cell_type": "code",
      "source": [
        "plt.hist(bmis,bins=50)\n",
        "plt.show()"
      ],
      "metadata": {
        "colab": {
          "base_uri": "https://localhost:8080/",
          "height": 265
        },
        "id": "r6OO_zFRkeg1",
        "outputId": "6adda88e-fd59-4f4e-a971-4e3c5fb9a8db"
      },
      "execution_count": null,
      "outputs": [
        {
          "output_type": "display_data",
          "data": {
            "text/plain": [
              "<Figure size 432x288 with 1 Axes>"
            ],
            "image/png": "[encoded data removed]"
          },
          "metadata": {
            "needs_background": "light"
          }
        }
      ]
    },
    {
      "cell_type": "code",
      "source": [
        "weights = bmi * heights * heights/10000\n",
        "print(sum(weights)/len(weights))"
      ],
      "metadata": {
        "colab": {
          "base_uri": "https://localhost:8080/"
        },
        "id": "7E_kwap7dH9k",
        "outputId": "4492648c-5f6f-4a5b-d289-aaf62c4c863d"
      },
      "execution_count": null,
      "outputs": [
        {
          "output_type": "stream",
          "name": "stdout",
          "text": [
            "59.881367225738096\n"
          ]
        }
      ]
    },
    {
      "cell_type": "code",
      "source": [
        "std_heights = np.std(heights)\n",
        "avg_height = np.average(heights)\n",
        "print(\"표준 편차:\",std_heights)\n",
        "print(\"평균:\",avg_height)"
      ],
      "metadata": {
        "colab": {
          "base_uri": "https://localhost:8080/"
        },
        "id": "1TIxCHfVeKDB",
        "outputId": "8ac59491-0e43-4d55-81be-4c582bc01554"
      },
      "execution_count": null,
      "outputs": [
        {
          "output_type": "stream",
          "name": "stdout",
          "text": [
            "표준 편차: 5.10769510835297\n",
            "평균: 172.77256829030125\n"
          ]
        }
      ]
    },
    {
      "cell_type": "code",
      "source": [
        "heights2 = (heights-avg_height)/std_heights\n",
        "std_heights2 = np.std(heights2)\n",
        "avg_height2 = np.average(heights2)\n",
        "print(\"표준 편차:\",std_heights2)\n",
        "print(\"평균:\",avg_height2)"
      ],
      "metadata": {
        "colab": {
          "base_uri": "https://localhost:8080/"
        },
        "id": "tp0g9FQSekHb",
        "outputId": "0b7e544e-6b4f-4f89-f438-38d35de69ebd"
      },
      "execution_count": null,
      "outputs": [
        {
          "output_type": "stream",
          "name": "stdout",
          "text": [
            "표준 편차: 1.0\n",
            "평균: -4.828137889489881e-15\n"
          ]
        }
      ]
    },
    {
      "cell_type": "markdown",
      "source": [
        "# 슬라이스"
      ],
      "metadata": {
        "id": "D2h3-nNQf0Gv"
      }
    },
    {
      "cell_type": "code",
      "source": [
        "arr = np.arange(1000)\n",
        "print(arr)"
      ],
      "metadata": {
        "id": "J-4oio4Xfxkm"
      },
      "execution_count": null,
      "outputs": []
    },
    {
      "cell_type": "code",
      "source": [
        "arr[5:8]"
      ],
      "metadata": {
        "colab": {
          "base_uri": "https://localhost:8080/"
        },
        "id": "ToondryylHRj",
        "outputId": "08275662-d9ab-422a-c35f-13c82979481a"
      },
      "execution_count": null,
      "outputs": [
        {
          "output_type": "execute_result",
          "data": {
            "text/plain": [
              "array([5, 6, 7])"
            ]
          },
          "metadata": {},
          "execution_count": 79
        }
      ]
    },
    {
      "cell_type": "code",
      "source": [
        "arr[-2]"
      ],
      "metadata": {
        "colab": {
          "base_uri": "https://localhost:8080/"
        },
        "id": "_bO_JKK1lVwL",
        "outputId": "3dc2eb99-14ff-4c0d-9ac3-11872a880c79"
      },
      "execution_count": null,
      "outputs": [
        {
          "output_type": "execute_result",
          "data": {
            "text/plain": [
              "998"
            ]
          },
          "metadata": {},
          "execution_count": 80
        }
      ]
    },
    {
      "cell_type": "code",
      "source": [
        "arr[980:-13]"
      ],
      "metadata": {
        "colab": {
          "base_uri": "https://localhost:8080/"
        },
        "id": "3t392NVWlXwa",
        "outputId": "f6eca63f-ad60-4fde-cb43-0bcb79af6e44"
      },
      "execution_count": null,
      "outputs": [
        {
          "output_type": "execute_result",
          "data": {
            "text/plain": [
              "array([980, 981, 982, 983, 984, 985, 986])"
            ]
          },
          "metadata": {},
          "execution_count": 81
        }
      ]
    },
    {
      "cell_type": "code",
      "source": [
        "arr[:5]"
      ],
      "metadata": {
        "colab": {
          "base_uri": "https://localhost:8080/"
        },
        "id": "OqTXqTp_ldHp",
        "outputId": "0da28aa8-3b26-4a19-e147-ed4f6d9c00ad"
      },
      "execution_count": null,
      "outputs": [
        {
          "output_type": "execute_result",
          "data": {
            "text/plain": [
              "array([0, 1, 2, 3, 4])"
            ]
          },
          "metadata": {},
          "execution_count": 82
        }
      ]
    },
    {
      "cell_type": "code",
      "source": [
        "arr[980:]"
      ],
      "metadata": {
        "colab": {
          "base_uri": "https://localhost:8080/"
        },
        "id": "z-N97UpDlnS1",
        "outputId": "bf2262a4-cbbe-420d-bdc6-7f0773808cf8"
      },
      "execution_count": null,
      "outputs": [
        {
          "output_type": "execute_result",
          "data": {
            "text/plain": [
              "array([980, 981, 982, 983, 984, 985, 986, 987, 988, 989, 990, 991, 992,\n",
              "       993, 994, 995, 996, 997, 998, 999])"
            ]
          },
          "metadata": {},
          "execution_count": 84
        }
      ]
    },
    {
      "cell_type": "code",
      "source": [
        "arr2 = np.array([[1,2,3],[4,5,6]])\n",
        "print(arr2[0])"
      ],
      "metadata": {
        "colab": {
          "base_uri": "https://localhost:8080/"
        },
        "id": "r0hkIDV_lqK1",
        "outputId": "f793255d-c370-4752-f3e2-409ec1eec50e"
      },
      "execution_count": null,
      "outputs": [
        {
          "output_type": "stream",
          "name": "stdout",
          "text": [
            "[1 2 3]\n"
          ]
        }
      ]
    },
    {
      "cell_type": "code",
      "source": [
        "arr2[0][1]"
      ],
      "metadata": {
        "colab": {
          "base_uri": "https://localhost:8080/"
        },
        "id": "8mWjNHqxl5uv",
        "outputId": "b2f5049f-a025-4bfc-95c1-997fde3fe51a"
      },
      "execution_count": null,
      "outputs": [
        {
          "output_type": "execute_result",
          "data": {
            "text/plain": [
              "2"
            ]
          },
          "metadata": {},
          "execution_count": 87
        }
      ]
    },
    {
      "cell_type": "markdown",
      "source": [
        "# 필터 선택"
      ],
      "metadata": {
        "id": "YoXOlQa3mJn6"
      }
    },
    {
      "cell_type": "code",
      "source": [
        "arr = np.array([1,3,2,5,4,8])\n",
        "print(arr)"
      ],
      "metadata": {
        "colab": {
          "base_uri": "https://localhost:8080/"
        },
        "id": "5s_ijAPZmGOd",
        "outputId": "9362301d-6f12-4a1c-b122-3273a5c8565a"
      },
      "execution_count": null,
      "outputs": [
        {
          "output_type": "stream",
          "name": "stdout",
          "text": [
            "[1 3 2 5 4 8]\n"
          ]
        }
      ]
    },
    {
      "cell_type": "code",
      "source": [
        "filter = arr%2==0\n",
        "print(filter)"
      ],
      "metadata": {
        "colab": {
          "base_uri": "https://localhost:8080/"
        },
        "id": "IAQFmF_BmR7W",
        "outputId": "2fa30fbc-7452-4617-c316-2b394a3cf721"
      },
      "execution_count": null,
      "outputs": [
        {
          "output_type": "stream",
          "name": "stdout",
          "text": [
            "[False False  True False  True  True]\n"
          ]
        }
      ]
    },
    {
      "cell_type": "code",
      "source": [
        "even_arr = arr[filter]\n",
        "even_arr"
      ],
      "metadata": {
        "colab": {
          "base_uri": "https://localhost:8080/"
        },
        "id": "WLtskmbPmcWH",
        "outputId": "2af9e2a8-b7cc-47ba-9e7b-0ca9162a1301"
      },
      "execution_count": null,
      "outputs": [
        {
          "output_type": "execute_result",
          "data": {
            "text/plain": [
              "array([2, 4, 8])"
            ]
          },
          "metadata": {},
          "execution_count": 91
        }
      ]
    },
    {
      "cell_type": "markdown",
      "source": [
        "# 구조 변경"
      ],
      "metadata": {
        "id": "fAzv-flgm5bF"
      }
    },
    {
      "cell_type": "code",
      "source": [
        "arr = np.arange(7*2*5)\n",
        "print(arr)"
      ],
      "metadata": {
        "colab": {
          "base_uri": "https://localhost:8080/"
        },
        "id": "WoO0l71um7Om",
        "outputId": "e499c2bd-1ad9-42db-a989-3ab51838f193"
      },
      "execution_count": null,
      "outputs": [
        {
          "output_type": "stream",
          "name": "stdout",
          "text": [
            "[ 0  1  2  3  4  5  6  7  8  9 10 11 12 13 14 15 16 17 18 19 20 21 22 23\n",
            " 24 25 26 27 28 29 30 31 32 33 34 35 36 37 38 39 40 41 42 43 44 45 46 47\n",
            " 48 49 50 51 52 53 54 55 56 57 58 59 60 61 62 63 64 65 66 67 68 69]\n"
          ]
        }
      ]
    },
    {
      "cell_type": "code",
      "source": [
        "print(arr.shape)"
      ],
      "metadata": {
        "colab": {
          "base_uri": "https://localhost:8080/"
        },
        "id": "NG5X8kVdnLfS",
        "outputId": "65f5866a-31d1-4bd1-95f3-532ca5f9ffd6"
      },
      "execution_count": null,
      "outputs": [
        {
          "output_type": "stream",
          "name": "stdout",
          "text": [
            "(70,)\n"
          ]
        }
      ]
    },
    {
      "cell_type": "code",
      "source": [
        "arr2 = arr.reshape((7, -1))\n",
        "print(arr2.shape)"
      ],
      "metadata": {
        "colab": {
          "base_uri": "https://localhost:8080/"
        },
        "id": "YqI3YFU4nOCn",
        "outputId": "b24cb007-98c5-4e93-f5fd-1566bd97113b"
      },
      "execution_count": null,
      "outputs": [
        {
          "output_type": "stream",
          "name": "stdout",
          "text": [
            "(7, 10)\n"
          ]
        }
      ]
    },
    {
      "cell_type": "code",
      "source": [
        "print(arr2)"
      ],
      "metadata": {
        "colab": {
          "base_uri": "https://localhost:8080/"
        },
        "id": "NaYeBtzcnU22",
        "outputId": "d2877ff6-84d0-4004-ac92-e963819bbe40"
      },
      "execution_count": null,
      "outputs": [
        {
          "output_type": "stream",
          "name": "stdout",
          "text": [
            "[[ 0  1  2  3  4  5  6  7  8  9]\n",
            " [10 11 12 13 14 15 16 17 18 19]\n",
            " [20 21 22 23 24 25 26 27 28 29]\n",
            " [30 31 32 33 34 35 36 37 38 39]\n",
            " [40 41 42 43 44 45 46 47 48 49]\n",
            " [50 51 52 53 54 55 56 57 58 59]\n",
            " [60 61 62 63 64 65 66 67 68 69]]\n"
          ]
        }
      ]
    },
    {
      "cell_type": "code",
      "source": [
        "arr3 = arr.reshape((7,-1,5))\n",
        "print(arr3.shape)\n",
        "print(arr3)"
      ],
      "metadata": {
        "colab": {
          "base_uri": "https://localhost:8080/"
        },
        "id": "ah_jtJ4-ngj6",
        "outputId": "b8aba678-ecdf-416c-c36d-16ecfa3ce861"
      },
      "execution_count": null,
      "outputs": [
        {
          "output_type": "stream",
          "name": "stdout",
          "text": [
            "(7, 2, 5)\n",
            "[[[ 0  1  2  3  4]\n",
            "  [ 5  6  7  8  9]]\n",
            "\n",
            " [[10 11 12 13 14]\n",
            "  [15 16 17 18 19]]\n",
            "\n",
            " [[20 21 22 23 24]\n",
            "  [25 26 27 28 29]]\n",
            "\n",
            " [[30 31 32 33 34]\n",
            "  [35 36 37 38 39]]\n",
            "\n",
            " [[40 41 42 43 44]\n",
            "  [45 46 47 48 49]]\n",
            "\n",
            " [[50 51 52 53 54]\n",
            "  [55 56 57 58 59]]\n",
            "\n",
            " [[60 61 62 63 64]\n",
            "  [65 66 67 68 69]]]\n"
          ]
        }
      ]
    },
    {
      "cell_type": "code",
      "source": [
        "#arr3 = arr.reshape((7,-1,6)) 원하는 구조로 만들지 못할떄 ValueError 발생"
      ],
      "metadata": {
        "id": "g1-rhE3ioOcf"
      },
      "execution_count": null,
      "outputs": []
    },
    {
      "cell_type": "markdown",
      "source": [
        "# 전치"
      ],
      "metadata": {
        "id": "shLOVbbipeu_"
      }
    },
    {
      "cell_type": "code",
      "source": [
        "arr = np.array([[1,2,3],[4,5,6]])\n",
        "print(arr)"
      ],
      "metadata": {
        "colab": {
          "base_uri": "https://localhost:8080/"
        },
        "id": "54H7h61opX02",
        "outputId": "1822fc28-863d-418a-a6fb-bb36f26b15e5"
      },
      "execution_count": null,
      "outputs": [
        {
          "output_type": "stream",
          "name": "stdout",
          "text": [
            "[[1 2 3]\n",
            " [4 5 6]]\n"
          ]
        }
      ]
    },
    {
      "cell_type": "code",
      "source": [
        "arr2 = arr.T\n",
        "print(arr2)"
      ],
      "metadata": {
        "colab": {
          "base_uri": "https://localhost:8080/"
        },
        "id": "cQECsHXlppml",
        "outputId": "d85dfb99-9d56-4fda-99ad-bca2b2b8feb4"
      },
      "execution_count": null,
      "outputs": [
        {
          "output_type": "stream",
          "name": "stdout",
          "text": [
            "[[1 4]\n",
            " [2 5]\n",
            " [3 6]]\n"
          ]
        }
      ]
    },
    {
      "cell_type": "code",
      "source": [
        "arr3 = arr.transpose()\n",
        "print(arr3)"
      ],
      "metadata": {
        "colab": {
          "base_uri": "https://localhost:8080/"
        },
        "id": "noRNpuBRpwV0",
        "outputId": "e79db76f-4e5b-431c-e52c-8c7366e69d9f"
      },
      "execution_count": null,
      "outputs": [
        {
          "output_type": "stream",
          "name": "stdout",
          "text": [
            "[[1 4]\n",
            " [2 5]\n",
            " [3 6]]\n"
          ]
        }
      ]
    },
    {
      "cell_type": "markdown",
      "source": [
        "# 자잘한 함수"
      ],
      "metadata": {
        "id": "MH1IgT51qYbe"
      }
    },
    {
      "cell_type": "code",
      "source": [
        "arr = np.random.randint(0,100,5)\n",
        "print(arr)"
      ],
      "metadata": {
        "colab": {
          "base_uri": "https://localhost:8080/"
        },
        "id": "w-dJnJNfqQzb",
        "outputId": "d9af06c9-498c-49f1-b1c6-f27108e5e3eb"
      },
      "execution_count": null,
      "outputs": [
        {
          "output_type": "stream",
          "name": "stdout",
          "text": [
            "[50 72 94 79 55]\n"
          ]
        }
      ]
    },
    {
      "cell_type": "code",
      "source": [
        "arr2 = np.sqrt(arr)\n",
        "print(arr2)"
      ],
      "metadata": {
        "colab": {
          "base_uri": "https://localhost:8080/"
        },
        "id": "BeK6CjWmqykF",
        "outputId": "2ca96a82-073f-4445-adce-96324b7c830a"
      },
      "execution_count": null,
      "outputs": [
        {
          "output_type": "stream",
          "name": "stdout",
          "text": [
            "[7.07106781 8.48528137 9.69535971 8.88819442 7.41619849]\n"
          ]
        }
      ]
    },
    {
      "cell_type": "code",
      "source": [
        "arr3 = np.random.randint(0,100,5)\n",
        "print(arr3)"
      ],
      "metadata": {
        "colab": {
          "base_uri": "https://localhost:8080/"
        },
        "id": "kL_Vk-0Wq9If",
        "outputId": "db5603bc-4c42-4530-837e-4f413e372d03"
      },
      "execution_count": null,
      "outputs": [
        {
          "output_type": "stream",
          "name": "stdout",
          "text": [
            "[ 5 85 50  4 70]\n"
          ]
        }
      ]
    },
    {
      "cell_type": "code",
      "source": [
        "arr4 = np.maximum(arr,arr3)\n",
        "print(arr4)"
      ],
      "metadata": {
        "colab": {
          "base_uri": "https://localhost:8080/"
        },
        "id": "h_IzYRo1rBp8",
        "outputId": "4d7d368f-803a-484c-ce52-b2b8bc9f24f2"
      },
      "execution_count": 163,
      "outputs": [
        {
          "output_type": "stream",
          "name": "stdout",
          "text": [
            "[50 85 94 79 70]\n"
          ]
        }
      ]
    },
    {
      "cell_type": "markdown",
      "source": [
        "# 정규분포 함수"
      ],
      "metadata": {
        "id": "cOlWQZLfA2Bp"
      }
    },
    {
      "cell_type": "code",
      "source": [
        "import math\n",
        "SQRT_TWO_PI = math.sqrt(2*math.pi)#루트 2파이\n",
        "def normal_pdf(x, mu=0, sigma=1):#정규분포(mu:평균, sigma:표준편차)\n",
        "  pre = 1/(sigma*SQRT_TWO_PI)\n",
        "  post = math.exp(-((x-mu)**2)/(2*(sigma**2)))\n",
        "  return pre*post"
      ],
      "metadata": {
        "id": "_6g7alUHruP5"
      },
      "execution_count": null,
      "outputs": []
    },
    {
      "cell_type": "markdown",
      "source": [
        "# 표준편차"
      ],
      "metadata": {
        "id": "FhotXrSzCgGw"
      }
    },
    {
      "cell_type": "code",
      "source": [
        "xs = [x/10.0 for x in range(-50,50)]#-5에서 5싸지 step 0.1로 리스트 구성\n",
        "ys1 = [normal_pdf(x) for x in xs]#표준 정규 분포\n",
        "ys2 = [normal_pdf(x,mu=1) for x in xs]#정규 분포 평균:1, 표준편차:1\n",
        "ys3 = [normal_pdf(x,sigma=2) for x in xs]#정규 분포 평균:0, 표준편차:2\n",
        "ys4 = [normal_pdf(x,sigma=0.5) for x in xs]#정규 분포 평균:0, 표준편차:2\n",
        "\n",
        "plt.plot(xs,ys1, '-',label='mu=0, sigma=1')\n",
        "plt.plot(xs,ys2, '--',label='mu=1, sigma=1')\n",
        "plt.plot(xs,ys3, ':',label='mu=0, sigma=2')\n",
        "plt.plot(xs,ys4, '-.',label='mu=0, sigma=0.5')\n",
        "plt.legend()\n",
        "plt.show()"
      ],
      "metadata": {
        "colab": {
          "base_uri": "https://localhost:8080/",
          "height": 265
        },
        "id": "8h-1q08wA0Qf",
        "outputId": "7c296b6b-3c6e-42c6-c16e-d3767d20217e"
      },
      "execution_count": null,
      "outputs": [
        {
          "output_type": "display_data",
          "data": {
            "text/plain": [
              "<Figure size 432x288 with 1 Axes>"
            ],
            "image/png": "[encoded data removed]"
          },
          "metadata": {
            "needs_background": "light"
          }
        }
      ]
    },
    {
      "cell_type": "code",
      "source": [
        "import random\n",
        "def bernoulli_trial(p):\n",
        " return 1 if random.random()<p else 0"
      ],
      "metadata": {
        "id": "r-qEWO4zCiPi"
      },
      "execution_count": null,
      "outputs": []
    },
    {
      "cell_type": "code",
      "source": [
        "dc_ts=[]\n",
        "for _ in range(100):\n",
        "  dc_ts.append(bernoulli_trial(1/6))\n",
        "print(dc_ts)\n",
        "print(sum(dc_ts))"
      ],
      "metadata": {
        "colab": {
          "base_uri": "https://localhost:8080/"
        },
        "id": "B6AyLQAuDfpF",
        "outputId": "86afe3ad-cc8e-42fb-e1f3-90b4147fb51e"
      },
      "execution_count": null,
      "outputs": [
        {
          "output_type": "stream",
          "name": "stdout",
          "text": [
            "[0, 0, 0, 0, 1, 0, 0, 0, 0, 1, 0, 1, 0, 0, 0, 1, 1, 0, 0, 0, 0, 0, 0, 0, 0, 1, 0, 0, 0, 0, 1, 0, 0, 0, 0, 0, 0, 0, 0, 0, 0, 1, 0, 0, 1, 0, 0, 1, 0, 0, 1, 0, 0, 0, 0, 0, 0, 0, 0, 1, 0, 0, 0, 0, 0, 0, 0, 1, 1, 0, 1, 1, 0, 0, 0, 0, 0, 0, 0, 0, 1, 0, 0, 0, 1, 0, 1, 0, 0, 0, 0, 0, 0, 0, 0, 0, 0, 0, 0, 0]\n",
            "19\n"
          ]
        }
      ]
    },
    {
      "cell_type": "code",
      "source": [
        "def draw_dice(n,p):\n",
        "  return sum(bernoulli_trial(1/6) for _ in range(n))\n",
        "  "
      ],
      "metadata": {
        "id": "Td14kjuYEOzu"
      },
      "execution_count": null,
      "outputs": []
    },
    {
      "cell_type": "code",
      "source": [
        "print(draw_dice(1000, 1/6))"
      ],
      "metadata": {
        "colab": {
          "base_uri": "https://localhost:8080/"
        },
        "id": "rvSBwF_tEcPe",
        "outputId": "535dec92-0389-447d-8a8e-2635d07c6009"
      },
      "execution_count": null,
      "outputs": [
        {
          "output_type": "stream",
          "name": "stdout",
          "text": [
            "171\n"
          ]
        }
      ]
    },
    {
      "cell_type": "code",
      "source": [
        "for _ in range(100):\n",
        "  print(draw_dice(1000,1/6),end = '.')"
      ],
      "metadata": {
        "colab": {
          "base_uri": "https://localhost:8080/"
        },
        "id": "fhPZI1LwEnL5",
        "outputId": "91df1d3a-f845-49e5-ead7-ab92cd88b77f"
      },
      "execution_count": null,
      "outputs": [
        {
          "output_type": "stream",
          "name": "stdout",
          "text": [
            "168.172.150.144.185.167.164.156.177.169.164.153.155.176.191.181.140.172.179.166.154.164.179.194.184.150.171.174.165.161.156.170.167.185.165.161.157.138.168.190.163.169.173.176.165.160.172.183.185.170.169.179.160.169.174.172.170.172.145.171.155.148.169.185.157.175.170.161.168.151.156.153.189.166.136.140.192.167.157.160.176.171.171.163.158.182.176.169.167.169.177.166.172.176.162.170.167.175.175.160."
          ]
        }
      ]
    },
    {
      "cell_type": "code",
      "source": [
        "from collections import Counter"
      ],
      "metadata": {
        "id": "ZgKOuqmeE9ru"
      },
      "execution_count": null,
      "outputs": []
    },
    {
      "cell_type": "code",
      "source": [
        "sample_data = [1,2,3,2,1,2,1,2,3,4,2,2,1,2,3,2]\n",
        "h = Counter(sample_data)\n",
        "print(h)"
      ],
      "metadata": {
        "colab": {
          "base_uri": "https://localhost:8080/"
        },
        "id": "sY1t2avfFjDG",
        "outputId": "f114b1bc-b921-46d3-c054-dbcfea9742d4"
      },
      "execution_count": null,
      "outputs": [
        {
          "output_type": "stream",
          "name": "stdout",
          "text": [
            "Counter({2: 8, 1: 4, 3: 3, 4: 1})\n"
          ]
        }
      ]
    },
    {
      "cell_type": "code",
      "source": [
        ""
      ],
      "metadata": {
        "id": "KcryPEP-Ip7P"
      },
      "execution_count": null,
      "outputs": []
    },
    {
      "cell_type": "code",
      "source": [
        "def binominal_hist(p,n,nps): #p:확률, n:시도 횟수 nps:(p,n)을 시도할 횟수\n",
        " data=[draw_dice(n,p) for _ in range(nps)]\n",
        " histogram = Counter(data)\n",
        " mu = p*n#평균, 기대값\n",
        " sigma = math.sqrt(n*p*(1-p))#표쥰편차, 시그마\n",
        " xs = range(min(data), max(data)+1)\n",
        " ys = [normal_pdf(i,mu,sigma) for i in xs]\n",
        " plt.bar(histogram.keys(),[v/nps for v in histogram.values()])\n",
        " plt.plot(xs,ys,color='r')\n",
        " plt.show()"
      ],
      "metadata": {
        "id": "g-xlIBI2FB0n"
      },
      "execution_count": null,
      "outputs": []
    },
    {
      "cell_type": "code",
      "source": [
        "binominal_hist(1/6, 100, 10)#1/6확률(주사위 던지기), 100번 시행, 10번 기록"
      ],
      "metadata": {
        "colab": {
          "base_uri": "https://localhost:8080/",
          "height": 265
        },
        "id": "ngVwjGrUHVUP",
        "outputId": "70ebabdd-2730-478c-a06b-dfc36b13aeef"
      },
      "execution_count": null,
      "outputs": [
        {
          "output_type": "display_data",
          "data": {
            "text/plain": [
              "<Figure size 432x288 with 1 Axes>"
            ],
            "image/png": "[encoded data removed]"
          },
          "metadata": {
            "needs_background": "light"
          }
        }
      ]
    },
    {
      "cell_type": "code",
      "source": [
        "binominal_hist(1/6, 100, 500)#1/6확률(주사위 던지기), 100번 시행, 500번 기록"
      ],
      "metadata": {
        "colab": {
          "base_uri": "https://localhost:8080/",
          "height": 265
        },
        "id": "dDVO5b28H_GO",
        "outputId": "1823714e-6646-4a8a-f65e-fba1de94f090"
      },
      "execution_count": null,
      "outputs": [
        {
          "output_type": "display_data",
          "data": {
            "text/plain": [
              "<Figure size 432x288 with 1 Axes>"
            ],
            "image/png": "[encoded data removed]"
          },
          "metadata": {
            "needs_background": "light"
          }
        }
      ]
    },
    {
      "cell_type": "code",
      "source": [
        "import cv2 #OpenCV 라이브러리\n",
        "from google.colab.patches import cv2_imshow #코랩에서 시각화를 위해 필요한 구문"
      ],
      "metadata": {
        "id": "4moOhYe4I1M0"
      },
      "execution_count": null,
      "outputs": []
    },
    {
      "cell_type": "code",
      "source": [
        "path = '/content/eh.jpg'\n",
        "image = cv2.imread(path,cv2.IMREAD_COLOR)\n",
        "cv2_imshow(image)"
      ],
      "metadata": {
        "colab": {
          "base_uri": "https://localhost:8080/",
          "height": 737
        },
        "id": "9g5IE5foMIsg",
        "outputId": "ddb2685a-a499-4342-b401-2c28a6ea8825"
      },
      "execution_count": null,
      "outputs": [
        {
          "output_type": "display_data",
          "data": {
            "text/plain": [
              "<PIL.Image.Image image mode=RGB size=495x720 at 0x7F8F238DF9D0>"
            ],
            "image/png": "[encoded data removed]"
          },
          "metadata": {}
        }
      ]
    },
    {
      "cell_type": "code",
      "source": [
        "print(image.ndim)"
      ],
      "metadata": {
        "colab": {
          "base_uri": "https://localhost:8080/"
        },
        "id": "01xvt9AKNuQt",
        "outputId": "2130ec92-1bee-4092-bfb5-78e772a5e088"
      },
      "execution_count": null,
      "outputs": [
        {
          "output_type": "stream",
          "name": "stdout",
          "text": [
            "3\n"
          ]
        }
      ]
    },
    {
      "cell_type": "code",
      "source": [
        "print(image.shape)"
      ],
      "metadata": {
        "id": "MYzAtImONx97",
        "colab": {
          "base_uri": "https://localhost:8080/"
        },
        "outputId": "1e131589-a8f7-406c-9925-c8b48ab4594a"
      },
      "execution_count": 147,
      "outputs": [
        {
          "output_type": "stream",
          "name": "stdout",
          "text": [
            "(720, 495, 3)\n"
          ]
        }
      ]
    },
    {
      "cell_type": "code",
      "source": [
        "image = np.zeros((28,28,3),np.uint8)\n",
        "cv2_imshow(image)"
      ],
      "metadata": {
        "colab": {
          "base_uri": "https://localhost:8080/",
          "height": 45
        },
        "id": "NR-8xvfBOBv3",
        "outputId": "638bcb40-1157-49b4-ea0a-272dc7386518"
      },
      "execution_count": 149,
      "outputs": [
        {
          "output_type": "display_data",
          "data": {
            "text/plain": [
              "<PIL.Image.Image image mode=RGB size=28x28 at 0x7F8F22F4AB50>"
            ],
            "image/png": "[encoded data removed]"
          },
          "metadata": {}
        }
      ]
    },
    {
      "cell_type": "code",
      "source": [
        "image[:,:,0]=255\n",
        "cv2_imshow(image)"
      ],
      "metadata": {
        "colab": {
          "base_uri": "https://localhost:8080/",
          "height": 45
        },
        "id": "XwOs8-PVORt1",
        "outputId": "92d1664f-9b8b-4a35-9bc3-ddf97f605917"
      },
      "execution_count": 150,
      "outputs": [
        {
          "output_type": "display_data",
          "data": {
            "text/plain": [
              "<PIL.Image.Image image mode=RGB size=28x28 at 0x7F8F22ECD790>"
            ],
            "image/png": "[encoded data removed]"
          },
          "metadata": {}
        }
      ]
    },
    {
      "cell_type": "code",
      "source": [
        "image[:,:,2]=255\n",
        "cv2_imshow(image)"
      ],
      "metadata": {
        "colab": {
          "base_uri": "https://localhost:8080/",
          "height": 45
        },
        "id": "CcvhR3DeOsUT",
        "outputId": "37379dc7-b8fe-4c20-d3ad-d3f9fcd8ca52"
      },
      "execution_count": 151,
      "outputs": [
        {
          "output_type": "display_data",
          "data": {
            "text/plain": [
              "<PIL.Image.Image image mode=RGB size=28x28 at 0x7F8F23338A10>"
            ],
            "image/png": "[encoded data removed]"
          },
          "metadata": {}
        }
      ]
    },
    {
      "cell_type": "code",
      "source": [
        "from tensorflow import keras"
      ],
      "metadata": {
        "id": "AJ-G7bHlO7HQ"
      },
      "execution_count": 152,
      "outputs": []
    },
    {
      "cell_type": "code",
      "source": [
        "data = keras.datasets.mnist.load_data()"
      ],
      "metadata": {
        "colab": {
          "base_uri": "https://localhost:8080/"
        },
        "id": "EMI2jslfPDiH",
        "outputId": "70f070d7-8144-4791-f365-240b4da17ed1"
      },
      "execution_count": 153,
      "outputs": [
        {
          "output_type": "stream",
          "name": "stdout",
          "text": [
            "Downloading data from https://storage.googleapis.com/tensorflow/tf-keras-datasets/mnist.npz\n",
            "11493376/11490434 [==============================] - 0s 0us/step\n",
            "11501568/11490434 [==============================] - 0s 0us/step\n"
          ]
        }
      ]
    },
    {
      "cell_type": "code",
      "source": [
        "print(type(data))\n",
        "print(len(data))"
      ],
      "metadata": {
        "colab": {
          "base_uri": "https://localhost:8080/"
        },
        "id": "tvQ2io-FPZjl",
        "outputId": "df1ecbea-6461-4008-fc21-9a8ac1c161aa"
      },
      "execution_count": 155,
      "outputs": [
        {
          "output_type": "stream",
          "name": "stdout",
          "text": [
            "<class 'tuple'>\n",
            "2\n"
          ]
        }
      ]
    },
    {
      "cell_type": "code",
      "source": [
        "from tensorflow.python.ops.gen_array_ops import tensor_strided_slice_update\n",
        "train_data, test_data = data\n",
        "print(type(train_data))\n",
        "print(len(train_data))\n",
        "print(type(test_data))\n",
        "print(len(test_data))"
      ],
      "metadata": {
        "colab": {
          "base_uri": "https://localhost:8080/"
        },
        "id": "6_BIXkmtPkYZ",
        "outputId": "c47013a2-c80b-45da-f7ce-6cc7d4ba9f90"
      },
      "execution_count": 157,
      "outputs": [
        {
          "output_type": "stream",
          "name": "stdout",
          "text": [
            "<class 'tuple'>\n",
            "2\n",
            "<class 'tuple'>\n",
            "2\n"
          ]
        }
      ]
    },
    {
      "cell_type": "code",
      "source": [
        "x_train, y_train = train_data\n",
        "x_test, y_test = test_data\n",
        "print(type(x_train), type(y_train))\n",
        "print(type(x_test), type(y_test))"
      ],
      "metadata": {
        "colab": {
          "base_uri": "https://localhost:8080/"
        },
        "id": "SgKW7oAkP4BG",
        "outputId": "82b6d525-1d1e-43cb-adfb-ddcefc5819c9"
      },
      "execution_count": 159,
      "outputs": [
        {
          "output_type": "stream",
          "name": "stdout",
          "text": [
            "<class 'numpy.ndarray'> <class 'numpy.ndarray'>\n",
            "<class 'numpy.ndarray'> <class 'numpy.ndarray'>\n"
          ]
        }
      ]
    },
    {
      "cell_type": "code",
      "source": [
        "print(x_train.shape, y_train.shape)\n",
        "print(x_test.shape, y_test.shape)"
      ],
      "metadata": {
        "colab": {
          "base_uri": "https://localhost:8080/"
        },
        "id": "iLlMMTcoQLme",
        "outputId": "e3a2a211-abc9-449b-8696-375f3c7bb44a"
      },
      "execution_count": 160,
      "outputs": [
        {
          "output_type": "stream",
          "name": "stdout",
          "text": [
            "(60000, 28, 28) (60000,)\n",
            "(10000, 28, 28) (10000,)\n"
          ]
        }
      ]
    },
    {
      "cell_type": "code",
      "source": [
        "for i in range(10):\n",
        "  image = x_train[i]\n",
        "  print(y_train[i])\n",
        "  cv2_imshow(image)"
      ],
      "metadata": {
        "colab": {
          "base_uri": "https://localhost:8080/",
          "height": 484
        },
        "id": "Lf_jYLrUQVP0",
        "outputId": "6207a46d-e76e-4f58-a980-0c30b21f81dc"
      },
      "execution_count": 162,
      "outputs": [
        {
          "output_type": "stream",
          "name": "stdout",
          "text": [
            "5\n"
          ]
        },
        {
          "output_type": "display_data",
          "data": {
            "text/plain": [
              "<PIL.Image.Image image mode=L size=28x28 at 0x7F8EA172A3D0>"
            ],
            "image/png": "[encoded data removed]"
          },
          "metadata": {}
        },
        {
          "output_type": "stream",
          "name": "stdout",
          "text": [
            "0\n"
          ]
        },
        {
          "output_type": "display_data",
          "data": {
            "text/plain": [
              "<PIL.Image.Image image mode=L size=28x28 at 0x7F8EA172A490>"
            ],
            "image/png": "[encoded data removed]"
          },
          "metadata": {}
        },
        {
          "output_type": "stream",
          "name": "stdout",
          "text": [
            "4\n"
          ]
        },
        {
          "output_type": "display_data",
          "data": {
            "text/plain": [
              "<PIL.Image.Image image mode=L size=28x28 at 0x7F8EA172A5D0>"
            ],
            "image/png": "[encoded data removed]"
          },
          "metadata": {}
        },
        {
          "output_type": "stream",
          "name": "stdout",
          "text": [
            "1\n"
          ]
        },
        {
          "output_type": "display_data",
          "data": {
            "text/plain": [
              "<PIL.Image.Image image mode=L size=28x28 at 0x7F8EA172AF50>"
            ],
            "image/png": "[encoded data removed]"
          },
          "metadata": {}
        },
        {
          "output_type": "stream",
          "name": "stdout",
          "text": [
            "9\n"
          ]
        },
        {
          "output_type": "display_data",
          "data": {
            "text/plain": [
              "<PIL.Image.Image image mode=L size=28x28 at 0x7F8EA172A950>"
            ],
            "image/png": "[encoded data removed]"
          },
          "metadata": {}
        },
        {
          "output_type": "stream",
          "name": "stdout",
          "text": [
            "2\n"
          ]
        },
        {
          "output_type": "display_data",
          "data": {
            "text/plain": [
              "<PIL.Image.Image image mode=L size=28x28 at 0x7F8EA172AE90>"
            ],
            "image/png": "[encoded data removed]"
          },
          "metadata": {}
        },
        {
          "output_type": "stream",
          "name": "stdout",
          "text": [
            "1\n"
          ]
        },
        {
          "output_type": "display_data",
          "data": {
            "text/plain": [
              "<PIL.Image.Image image mode=L size=28x28 at 0x7F8EA172AE10>"
            ],
            "image/png": "[encoded data removed]"
          },
          "metadata": {}
        },
        {
          "output_type": "stream",
          "name": "stdout",
          "text": [
            "3\n"
          ]
        },
        {
          "output_type": "display_data",
          "data": {
            "text/plain": [
              "<PIL.Image.Image image mode=L size=28x28 at 0x7F8F22EAC710>"
            ],
            "image/png": "[encoded data removed]"
          },
          "metadata": {}
        },
        {
          "output_type": "stream",
          "name": "stdout",
          "text": [
            "1\n"
          ]
        },
        {
          "output_type": "display_data",
          "data": {
            "text/plain": [
              "<PIL.Image.Image image mode=L size=28x28 at 0x7F8F22EAC110>"
            ],
            "image/png": "[encoded data removed]"
          },
          "metadata": {}
        },
        {
          "output_type": "stream",
          "name": "stdout",
          "text": [
            "4\n"
          ]
        },
        {
          "output_type": "display_data",
          "data": {
            "text/plain": [
              "<PIL.Image.Image image mode=L size=28x28 at 0x7F8F22EAC710>"
            ],
            "image/png": "[encoded data removed]"
          },
          "metadata": {}
        }
      ]
    },
    {
      "cell_type": "markdown",
      "source": [
        "# 통계"
      ],
      "metadata": {
        "id": "RxMOGaIbSG0W"
      }
    },
    {
      "cell_type": "code",
      "source": [
        "arr = np.random.randint(5,100,20)\n",
        "print(arr)"
      ],
      "metadata": {
        "colab": {
          "base_uri": "https://localhost:8080/"
        },
        "id": "6P0wzre_R_Sa",
        "outputId": "f6aba0ee-ea4d-4073-cf82-d4db90d1cb53"
      },
      "execution_count": 164,
      "outputs": [
        {
          "output_type": "stream",
          "name": "stdout",
          "text": [
            "[35 98  5 95 10 84 86 94 93 57 47 17 79 83 85 15 72 42 82 42]\n"
          ]
        }
      ]
    },
    {
      "cell_type": "code",
      "source": [
        "arr2 = arr.reshape(4,-1)\n",
        "print(arr2)"
      ],
      "metadata": {
        "colab": {
          "base_uri": "https://localhost:8080/"
        },
        "id": "272UvCQYSI5O",
        "outputId": "5cafc16f-41f5-4125-f887-000b4faddff4"
      },
      "execution_count": 165,
      "outputs": [
        {
          "output_type": "stream",
          "name": "stdout",
          "text": [
            "[[35 98  5 95 10]\n",
            " [84 86 94 93 57]\n",
            " [47 17 79 83 85]\n",
            " [15 72 42 82 42]]\n"
          ]
        }
      ]
    },
    {
      "cell_type": "code",
      "source": [
        "print(\"평균:\",arr2.mean())"
      ],
      "metadata": {
        "colab": {
          "base_uri": "https://localhost:8080/"
        },
        "id": "6XUCabsVSdQ5",
        "outputId": "9dac973d-82aa-4d4d-837c-213d818fc5ee"
      },
      "execution_count": 166,
      "outputs": [
        {
          "output_type": "stream",
          "name": "stdout",
          "text": [
            "평균: 61.05\n"
          ]
        }
      ]
    },
    {
      "cell_type": "code",
      "source": [
        "print(\"평균(축1):\", arr2.mean(axis=1))#커럼 축\n",
        "print(\"평균(축0):\", arr2.mean(axis=0))#로우 축"
      ],
      "metadata": {
        "colab": {
          "base_uri": "https://localhost:8080/"
        },
        "id": "HwuEuW68SkF7",
        "outputId": "bc8c893a-e8a3-438b-b141-8dcaef5a719e"
      },
      "execution_count": 168,
      "outputs": [
        {
          "output_type": "stream",
          "name": "stdout",
          "text": [
            "평균(축1): [48.6 82.8 62.2 50.6]\n",
            "평균(축0): [45.25 68.25 55.   88.25 48.5 ]\n"
          ]
        }
      ]
    },
    {
      "cell_type": "code",
      "source": [
        "print(\"합계:\",arr2.sum())\n",
        "print(\"합계(축1):\",arr2.sum(axis=1))\n",
        "print(\"합계(축0):\", arr2.sum(axis=0))#로우 축"
      ],
      "metadata": {
        "colab": {
          "base_uri": "https://localhost:8080/"
        },
        "id": "zt83xO7jS_BI",
        "outputId": "867efc15-00f9-4ec3-e1a4-02cb15e25f83"
      },
      "execution_count": 169,
      "outputs": [
        {
          "output_type": "stream",
          "name": "stdout",
          "text": [
            "합계: 1221\n",
            "합계(축1): [243 414 311 253]\n",
            "합계(축0): [181 273 220 353 194]\n"
          ]
        }
      ]
    },
    {
      "cell_type": "code",
      "source": [
        "print(\"표준편차:\", arr2.std())\n",
        "print(\"분산:\", arr2.var())\n",
        "print(\"최솟값:\", arr2.min())\n",
        "print(\"최댓값:\", arr2.max())"
      ],
      "metadata": {
        "colab": {
          "base_uri": "https://localhost:8080/"
        },
        "id": "xlXnzMwsTWkd",
        "outputId": "057c2877-9603-40cd-8496-77982cda1916"
      },
      "execution_count": 171,
      "outputs": [
        {
          "output_type": "stream",
          "name": "stdout",
          "text": [
            "표준편차: 30.932951685864058\n",
            "분산: 956.8475000000001\n",
            "최솟값: 5\n",
            "최댓값: 98\n"
          ]
        }
      ]
    },
    {
      "cell_type": "code",
      "source": [
        "arr = np.array([1,3,2,4,56,5,-2,3])\n",
        "print(\"최댓값 인덱스:\",arr2.argmax())\n",
        "print(\"최댓값 인덱스:\",arr2.argmin())"
      ],
      "metadata": {
        "colab": {
          "base_uri": "https://localhost:8080/"
        },
        "id": "_wsxV-qETmN6",
        "outputId": "d840c6c6-0224-461b-83f4-085ce7a96bfc"
      },
      "execution_count": 172,
      "outputs": [
        {
          "output_type": "stream",
          "name": "stdout",
          "text": [
            "최댓값 인덱스: 1\n",
            "최댓값 인덱스: 2\n"
          ]
        }
      ]
    },
    {
      "cell_type": "code",
      "source": [
        "arr = np.array([1,2,3,2,4,5])\n",
        "cs = arr.cumsum()\n",
        "print(cs)"
      ],
      "metadata": {
        "colab": {
          "base_uri": "https://localhost:8080/"
        },
        "id": "udgrzu5UT2M9",
        "outputId": "e654a057-ec11-4c89-b736-bb9573b4f0b5"
      },
      "execution_count": 175,
      "outputs": [
        {
          "output_type": "stream",
          "name": "stdout",
          "text": [
            "[ 1  3  6  8 12 17]\n"
          ]
        }
      ]
    },
    {
      "cell_type": "code",
      "source": [
        "arr.sort()\n",
        "print(arr)"
      ],
      "metadata": {
        "colab": {
          "base_uri": "https://localhost:8080/"
        },
        "id": "QtPJJ10zT_jS",
        "outputId": "b92f9383-e434-4b05-c5fb-e593389f853e"
      },
      "execution_count": 176,
      "outputs": [
        {
          "output_type": "stream",
          "name": "stdout",
          "text": [
            "[1 2 2 3 4 5]\n"
          ]
        }
      ]
    },
    {
      "cell_type": "code",
      "source": [
        "arr=[1,2,34,2,2,4,23,2,3,2,4,1,1,2,1]\n",
        "sa = np.unique(arr)\n",
        "print(sa)"
      ],
      "metadata": {
        "colab": {
          "base_uri": "https://localhost:8080/"
        },
        "id": "BrOmb5mRURIU",
        "outputId": "c0fd5855-44b9-4dcd-b2dd-a1e2b0402870"
      },
      "execution_count": 178,
      "outputs": [
        {
          "output_type": "stream",
          "name": "stdout",
          "text": [
            "[ 1  2  3  4 23 34]\n"
          ]
        }
      ]
    },
    {
      "cell_type": "code",
      "source": [
        "s = {1,2,3,2,1,2,3,2,1,2}\n",
        "print(s)"
      ],
      "metadata": {
        "colab": {
          "base_uri": "https://localhost:8080/"
        },
        "id": "WklZNb77U9f_",
        "outputId": "bd0509c6-d075-45be-e8c2-ad3e991bec0f"
      },
      "execution_count": 179,
      "outputs": [
        {
          "output_type": "stream",
          "name": "stdout",
          "text": [
            "{1, 2, 3}\n"
          ]
        }
      ]
    },
    {
      "cell_type": "markdown",
      "source": [
        "# 선형 대수 - inside numpy"
      ],
      "metadata": {
        "id": "-HTwZFkIaaeP"
      }
    },
    {
      "cell_type": "code",
      "source": [
        "def add_list(ls1, ls2):\n",
        "  re=[]\n",
        "  assert len(ls1)==len(ls2),\"두 개의 리스트 원소 개수는 같아야 합니다.\"\n",
        "  for i,e in enumerate(ls1):\n",
        "    re.append(ls1[i]+ls2[i])\n",
        "  return re"
      ],
      "metadata": {
        "id": "ndqe692gae3Q"
      },
      "execution_count": 182,
      "outputs": []
    },
    {
      "cell_type": "code",
      "source": [
        "def add_list2(ls1,ls2):\n",
        "  assert len(ls1)==len(ls2),\"두 개의 리스트 원소 개수는 같아야 합니다.\"\n",
        "  return [ls1[i] + ls2[i] for i in range(len(ls1))]"
      ],
      "metadata": {
        "id": "rY2LyYfZbO7b"
      },
      "execution_count": 185,
      "outputs": []
    },
    {
      "cell_type": "code",
      "source": [
        "assert add_list([1,2,3],[4,6,7]) == [5,8,10] #test"
      ],
      "metadata": {
        "id": "A9JaTfudcHRo"
      },
      "execution_count": 190,
      "outputs": []
    },
    {
      "cell_type": "code",
      "source": [
        "re = add_list([1,2,3],[4,6,7])\n",
        "print(re)\n",
        "re = add_list2([1,2,3],[4,6,7])\n",
        "print(re)"
      ],
      "metadata": {
        "colab": {
          "base_uri": "https://localhost:8080/"
        },
        "id": "7dmPywGaa4Se",
        "outputId": "5a6f3f52-7019-4c26-c539-41c5a39d69d8"
      },
      "execution_count": 187,
      "outputs": [
        {
          "output_type": "stream",
          "name": "stdout",
          "text": [
            "[5, 8, 10]\n",
            "[5, 8, 10]\n"
          ]
        }
      ]
    },
    {
      "cell_type": "code",
      "source": [
        "def subtract(ls1,ls2):\n",
        "  assert len(ls1)==len(ls2),\"두 개의 리스트 원소 개수는 같아야 합니다.\"\n",
        "  return [ls1[i] - ls2[i] for i in range(len(ls1))]"
      ],
      "metadata": {
        "id": "XMKerM1ldeZw"
      },
      "execution_count": 195,
      "outputs": []
    },
    {
      "cell_type": "code",
      "source": [
        "assert subtract([4,2,8],[1,3,5]) == [3,-1,3]"
      ],
      "metadata": {
        "id": "EFReESyodcwt"
      },
      "execution_count": 196,
      "outputs": []
    },
    {
      "cell_type": "code",
      "source": [
        "def scalar_multiply(ls1,num):\n",
        "  return [num*ls1[i] for i in range(len(ls1))]"
      ],
      "metadata": {
        "id": "jtkRFLY8d8g3"
      },
      "execution_count": 197,
      "outputs": []
    },
    {
      "cell_type": "code",
      "source": [
        "assert scalar_multiply([2,3,4,],3)==[6,9,12]"
      ],
      "metadata": {
        "id": "MOX7BsZleKKt"
      },
      "execution_count": 198,
      "outputs": []
    },
    {
      "cell_type": "code",
      "source": [
        "arr1 = [[1,2],[3,4]]\n",
        "arr2 = [[2,3],[1,2]]\n",
        "re = np.dot(arr1,arr2)\n",
        "print(re)"
      ],
      "metadata": {
        "colab": {
          "base_uri": "https://localhost:8080/"
        },
        "id": "iaLgkI92eSmm",
        "outputId": "eb7699ca-cd93-4aa0-d237-ff7e4467bf23"
      },
      "execution_count": 200,
      "outputs": [
        {
          "output_type": "stream",
          "name": "stdout",
          "text": [
            "[[ 4  7]\n",
            " [10 17]]\n"
          ]
        }
      ]
    },
    {
      "cell_type": "code",
      "source": [
        "def dot(ls1,ls2):\n",
        "  return sum(v_i*w_i for v_i,w_i in zip(ls1,ls2))"
      ],
      "metadata": {
        "id": "-vsvdqvBefAk"
      },
      "execution_count": 201,
      "outputs": []
    },
    {
      "cell_type": "code",
      "source": [
        "print(dot([1,2,3],[4,5,6]))"
      ],
      "metadata": {
        "colab": {
          "base_uri": "https://localhost:8080/"
        },
        "id": "sbjlP_VPe7pI",
        "outputId": "0844965e-9bb6-475f-93a5-8b841632e08c"
      },
      "execution_count": 203,
      "outputs": [
        {
          "output_type": "stream",
          "name": "stdout",
          "text": [
            "32\n"
          ]
        }
      ]
    },
    {
      "cell_type": "code",
      "source": [
        "np.dot(np.array([1,2,3]),np.array([4,5,6]))"
      ],
      "metadata": {
        "colab": {
          "base_uri": "https://localhost:8080/"
        },
        "id": "BjTJ_umDfBsD",
        "outputId": "53cf13a6-6559-4b7b-f48e-0527e58e5e88"
      },
      "execution_count": 210,
      "outputs": [
        {
          "output_type": "execute_result",
          "data": {
            "text/plain": [
              "32"
            ]
          },
          "metadata": {},
          "execution_count": 210
        }
      ]
    },
    {
      "cell_type": "code",
      "source": [
        "arr = np.diag((3,3,1,3,5,7))\n",
        "print(arr)"
      ],
      "metadata": {
        "colab": {
          "base_uri": "https://localhost:8080/"
        },
        "id": "DmVFobihfWde",
        "outputId": "94c1b78e-e333-43c2-a1da-dfe77aa7230d"
      },
      "execution_count": 212,
      "outputs": [
        {
          "output_type": "stream",
          "name": "stdout",
          "text": [
            "[[3 0 0 0 0 0]\n",
            " [0 3 0 0 0 0]\n",
            " [0 0 1 0 0 0]\n",
            " [0 0 0 3 0 0]\n",
            " [0 0 0 0 5 0]\n",
            " [0 0 0 0 0 7]]\n"
          ]
        }
      ]
    },
    {
      "cell_type": "code",
      "source": [
        "for _ in range(10):\n",
        "  print(np.random.rand()) #0~1사이 값"
      ],
      "metadata": {
        "colab": {
          "base_uri": "https://localhost:8080/"
        },
        "id": "zGGQtx3rhEok",
        "outputId": "6dc74b45-f47a-4e0d-9edf-863bea1ae057"
      },
      "execution_count": 213,
      "outputs": [
        {
          "output_type": "stream",
          "name": "stdout",
          "text": [
            "0.4453260920418656\n",
            "0.3996180319695999\n",
            "0.42396272129435586\n",
            "0.6786451247245794\n",
            "0.16751381221703865\n",
            "0.30298015640862497\n",
            "0.07334548935453167\n",
            "0.5049808992763712\n",
            "0.5673128023633442\n",
            "0.8507696200551328\n"
          ]
        }
      ]
    },
    {
      "cell_type": "code",
      "source": [
        "for _ in range(10):\n",
        "  print(np.random.random(size=3)) #size 가능"
      ],
      "metadata": {
        "colab": {
          "base_uri": "https://localhost:8080/"
        },
        "id": "-c0O8McYhWIE",
        "outputId": "1994132f-c00e-4354-f172-6e7384b3d635"
      },
      "execution_count": 215,
      "outputs": [
        {
          "output_type": "stream",
          "name": "stdout",
          "text": [
            "[0.75339535 0.94968257 0.28362311]\n",
            "[0.45794713 0.18112659 0.450415  ]\n",
            "[0.25201269 0.23779863 0.48661338]\n",
            "[0.60607983 0.49880068 0.31446579]\n",
            "[0.74530022 0.50957382 0.01940434]\n",
            "[0.13371725 0.9912453  0.87537549]\n",
            "[0.58909849 0.46037135 0.51215839]\n",
            "[0.56235918 0.47738709 0.92848003]\n",
            "[0.17652789 0.05857049 0.95890085]\n",
            "[0.07789677 0.89439076 0.00960606]\n"
          ]
        }
      ]
    },
    {
      "cell_type": "code",
      "source": [
        "for _ in range(10):\n",
        "  print(np.random.uniform(-2,3)) #범위지정"
      ],
      "metadata": {
        "colab": {
          "base_uri": "https://localhost:8080/"
        },
        "id": "gxkY-WghhvhZ",
        "outputId": "defe001e-2961-42f9-eea7-413960764558"
      },
      "execution_count": 217,
      "outputs": [
        {
          "output_type": "stream",
          "name": "stdout",
          "text": [
            "-1.9224919719119875\n",
            "-0.4761059073930207\n",
            "0.43651095822262054\n",
            "-1.8641669486534855\n",
            "-0.9327678232092511\n",
            "2.813481212371423\n",
            "1.8978158863760308\n",
            "1.9784743046770132\n",
            "0.5578186156809464\n",
            "1.1092265214443717\n"
          ]
        }
      ]
    },
    {
      "cell_type": "code",
      "source": [
        "for _ in range(10):\n",
        "  print(np.random.randint(1,7),end=' ')"
      ],
      "metadata": {
        "colab": {
          "base_uri": "https://localhost:8080/"
        },
        "id": "NwemDz2yiEIs",
        "outputId": "b8a13068-fd01-4dc6-b11b-9b366ad0d8fb"
      },
      "execution_count": 220,
      "outputs": [
        {
          "output_type": "stream",
          "name": "stdout",
          "text": [
            "3 4 4 6 1 6 4 5 6 1 "
          ]
        }
      ]
    },
    {
      "cell_type": "code",
      "source": [
        "for _ in range(20):\n",
        "  print(np.random.choice([1,3,2,8]),end=' ')"
      ],
      "metadata": {
        "colab": {
          "base_uri": "https://localhost:8080/"
        },
        "id": "oFUpnTPCihtc",
        "outputId": "8c750138-4ae8-42e3-a45c-af71dcb6fff9"
      },
      "execution_count": 223,
      "outputs": [
        {
          "output_type": "stream",
          "name": "stdout",
          "text": [
            "3 3 2 1 2 2 2 1 3 8 1 8 2 2 8 8 8 8 8 2 "
          ]
        }
      ]
    },
    {
      "cell_type": "code",
      "source": [
        ""
      ],
      "metadata": {
        "id": "bneZFUQqjaw4"
      },
      "execution_count": null,
      "outputs": []
    }
  ]
}