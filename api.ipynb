{
  "nbformat": 4,
  "nbformat_minor": 0,
  "metadata": {
    "colab": {
      "name": "api.ipynb",
      "provenance": [],
      "collapsed_sections": [],
      "include_colab_link": true
    },
    "kernelspec": {
      "name": "python3",
      "display_name": "Python 3"
    },
    "language_info": {
      "name": "python"
    }
  },
  "cells": [
    {
      "cell_type": "markdown",
      "metadata": {
        "id": "view-in-github",
        "colab_type": "text"
      },
      "source": [
        "<a href=\"https://colab.research.google.com/github/jinyoungmoonDEV/Academy_Python_Data_Analysis/blob/main/api.ipynb\" target=\"_parent\"><img src=\"https://colab.research.google.com/assets/colab-badge.svg\" alt=\"Open In Colab\"/></a>"
      ]
    },
    {
      "cell_type": "code",
      "execution_count": 72,
      "metadata": {
        "id": "f4tEbbibXpDM"
      },
      "outputs": [],
      "source": [
        "import urllib.request"
      ]
    },
    {
      "cell_type": "code",
      "source": [
        "site_url = 'https://api.odcloud.kr/api/gov24/v1/serviceList'\n",
        "page_param = 'page=1'\n",
        "perpage_param = 'perPage=10'\n",
        "sk_param = 'serviceKey=Y5OJd2onMsLI8lXegBJBuwokLEvtik%2BvcgNbGerWSg%2FZ69vFdRVzpaAzVHSurt46FQukkhUDLL%2F1w4oMM86Ugg%3D%3D'\n",
        "query_str = site_url+'?'+page_param + \"&\"+perpage_param+'&'+sk_param\n",
        "print(query_str)"
      ],
      "metadata": {
        "colab": {
          "base_uri": "https://localhost:8080/"
        },
        "id": "un077-tiXzml",
        "outputId": "a9d2eac9-dece-465e-d45c-54657b619bac"
      },
      "execution_count": 73,
      "outputs": [
        {
          "output_type": "stream",
          "name": "stdout",
          "text": [
            "https://api.odcloud.kr/api/gov24/v1/serviceList?page=1&perPage=10&serviceKey=Y5OJd2onMsLI8lXegBJBuwokLEvtik%2BvcgNbGerWSg%2FZ69vFdRVzpaAzVHSurt46FQukkhUDLL%2F1w4oMM86Ugg%3D%3D\n"
          ]
        }
      ]
    },
    {
      "cell_type": "code",
      "source": [
        "response = urllib.request.urlopen(query_str)\n",
        "if response.getcode()!=200:\n",
        "  print(\"실패\")\n",
        "else:\n",
        "  print(\"성공\")"
      ],
      "metadata": {
        "colab": {
          "base_uri": "https://localhost:8080/"
        },
        "id": "rdpX55PBY6rg",
        "outputId": "87e5a74c-76f9-43b3-b9c8-01de6ad80e06"
      },
      "execution_count": 74,
      "outputs": [
        {
          "output_type": "stream",
          "name": "stdout",
          "text": [
            "성공\n"
          ]
        }
      ]
    },
    {
      "cell_type": "code",
      "source": [
        "import json"
      ],
      "metadata": {
        "id": "NKQC6OzsmV1X"
      },
      "execution_count": 75,
      "outputs": []
    },
    {
      "cell_type": "code",
      "source": [
        "data = response.read().decode('utf-8')\n",
        "\n",
        "docs = json.loads(data)\n",
        "\n",
        "datas = docs['data']\n",
        "\n",
        "for item in datas:\n",
        "  print(item)"
      ],
      "metadata": {
        "id": "aqWrNsbJl2ne",
        "colab": {
          "base_uri": "https://localhost:8080/"
        },
        "outputId": "2bd25b29-13a2-44ab-adf5-8deedf512058"
      },
      "execution_count": 76,
      "outputs": [
        {
          "output_type": "stream",
          "name": "stdout",
          "text": [
            "{'부서명': '유아교육정책과', '상세조회URL': 'https://gov.kr/portal/rcvfvrSvc/dtlEx/000000465790', '서비스ID': '000000465790', '서비스명': '누리과정(유아학비) 지원', '서비스목적': '만 3~5세 누리과정 도입으로 유치원·어린이집에 국가수준 공통 교육과정(누리과정)을 적용함에 따라, 보호자의 소득수준에 관계없이 전 계층 유아학비, 보육료 지원', '선정기준': '○ 지원대상 : 유치원, 어린이집을 이용하는 만 3~5세 아동\\r\\n\\r\\n○ 신청인 : 아동의 보호자\\r\\n\\r\\n○ 신청장소 : 읍면동 주민센터(아동 주민등록 주소지)', '소관기관명': '교육부', '소관기관코드': '1342000', '신청기한': None, '신청방법': '읍면동 주민센터에 방문하거나 온라인으로 신청', '조회수': 86317, '지원내용': '○ 만 3~5세 누리과정 운영에 필요한 비용 지원 \\r\\n - 유아학비, 방과후과정비 지원(국공립 유치원 : 15만원, 사립유치원 : 35만원 지원)\\r\\n - 보육료(350,000원 지원)', '지원대상': '○ 지원대상 : 유치원, 어린이집을 이용하는 만 3~5세 아동\\r\\n\\r\\n○ 추가지원 : 저소득층 유아(유아학비 지원 대상 자격이 있고, 사립유치원에 다니는 법정저소득층(기초생활수급자, 차상위계층, 한부모 가정) 유아)', '지원유형': '현금'}\n",
            "{'부서명': '소득지원국', '상세조회URL': 'https://gov.kr/portal/rcvfvrSvc/dtlEx/105100000001', '서비스ID': '105100000001', '서비스명': '근로·자녀장려금', '서비스목적': \"○ 근로자녀장려세제\\r\\n - 저소득계층의 빈곤 탈출을 지원하고 사회안전망을 확충하기 위해 도입되었으며, 근로소득, 사업소득 또는 종교인소득에 따라 산정된 근로장려금을 환급 형태로 지급하여 저소득 계층의 근로를 유인하고 실질소득을 지원하기 위한 근로연계형 소득지원 제도\\r\\n○ 자녀장려세제\\r\\n - 저소득층 가구의 소득 및 부양자녀 수에 따라 자녀 장려금을 세금 환급 형태로 지급하여 근로 및 출산을 장려하는 소득지원 제도('15년부터 시행)\", '선정기준': '○ 아래 요건을 모두 충족하는 근로소득, 사업소득 또는 종교인소득이 있는 가구\\r\\n\\r\\n- 소득요건 : 전년도 부부합산 연간 총소득이 가구 유형에 따라 정한 기총소득기준금액 미만일 것\\r\\n  (근로장려금)\\r\\n  ㆍ 단독가구 : 2,200만 원 미만\\r\\n  ㆍ 홑벌이 가구 : 3,200만 원 미만\\r\\n  ㆍ 맞벌이 가구 : 3,800만 원 미만\\r\\n  (자녀장려금)\\r\\n  ㆍ 4,000만 원 미만\\r\\n - 재산요건\\r\\n  ㆍ 전년도 6월 1일 현재, 가구원 전체의 재산 합계액이 2억 원 미만일 것\\r\\n- 가구요건\\r\\n  ㆍ 단독가구 : 배우자1), 부양자녀2), 70세 이상 직계존속3)이 모두 없는 가구\\r\\n  ㆍ 홑벌이가구 : 배우자 또는 부양자녀 또는 70세 이상 직계존속이 있는 가구(배우자가 있는 경우에는 신청인 또는 배우자의 총급여액 등이 3백만원 미만이어야 함)\\r\\n  ㆍ 맞벌이가구 : 신청인과 배우자 각각의 총급여액 등이 3백만원 이상인 가구\\r\\n     1) 배우자 : 법률상 배우자(사실혼 제외)\\r\\n     2) 부양자녀 : (18세 미만) and (연간소득금액 100만원 이하)\\r\\n     3) 직계존속 : (70세 이상) and (연간소득금액 100만원 이하) and (주민등록 동거 및 부양)\\r\\n     *부양자녀 및 직계존속 중 동일주소 거주 중증장애인은 연령 제한 없음\\r\\n\\r\\n<신청 제외> 위 요건을 모두 충족하는 경우에도 아래 유형에 해당하는 경우 신청할 수 없음\\r\\n -전년도 12.31.현재 대한민국 국적을 보유하지 아니한 자\\r\\n  (대한민국 국적을 보유한 자와 혼인한 자, 대한민국 국적의 부양자녀가 있는 자는 신청할 수 있음)\\r\\n -전년도 중 다른 거주자의 부양자녀인 자\\r\\n -전문직 사업을 영위하는 자(그 배우자 포함)\\r\\n\\r\\n※ 총소득과 총급여액 등 비교\\r\\n - 총소득 \\r\\n  ㆍ 근로, 사업, 종교인, 기타, 이자, 배당, 연금소득의 합계금액(부부합산)\\r\\n  ㆍ 신청자격 중 소득요건(가구 유형별 기준금액) 판정기준\\r\\n - 총급여액 등\\r\\n  ㆍ 근로, 사업, 종교인 소득의 합계금액(부부합산)\\r\\n  ㆍ 장려금 지급액을 산정·결정하는 기준\\r\\n  ㆍ 총급여액 등에서 제외되는 소득 : 비과세 소득, 본인 및 배우자의 직계존비속에게 받은 근로소득 및 사업소득, 사업자등록 없는 자의 사업소득, 사업자등록 없는 자에게 받은 근로소득, 인정상여 근로소득(법인세법 제67조에 의한 소득처분)\\r\\n\\r\\n* 자세한 신청요건은 국세청 홈택스(www.hometax.go.kr)에서 확인 바랍니다', '소관기관명': '국세청', '소관기관코드': '1210000', '신청기한': '○ 정기신청 : 5.1.~5.31.○ 상반기분 신청 : 9.1.~9.15.○ 하반기분 신청 : 3.1.~3.15.', '신청방법': '○ 개별 신청 안내받은 경우에는 ARS, 모바일 국세청 홈택스 앱, 인터넷 홈택스 서비스, 서면 신청 가능\\r\\n○ 개별 신청 안내받지 않은 경우에는 인터넷 홈택스 및 서면 신청 가능', '조회수': 177428, '지원내용': '○ 전년도 연간 부부합산 총 급여액 등(사업소득과 근로소득의 합계)에 따라\\r\\n - 근로장려금은\\r\\n  ㆍ 단독가구 최대 150만 원\\r\\n  ㆍ 홑벌이 가구 최대 260만 원\\r\\n  ㆍ 맞벌이 가구 최대 300만 원 지급\\r\\n - 자녀 장려금은\\r\\n  ㆍ 단독가구 해당 없음\\r\\n  ㆍ 홑벌이 가구 부양자녀 1명 당 최대 70만 원\\r\\n  ㆍ 맞벌이 가구 부양자녀 1명 당 최대 70만 원 지급\\r\\n\\r\\n* 자세한 산정식은 홈택스(www.hometax.go.kr)에서 확인 바랍니다', '지원대상': '○ 전년도에 정해진 범위의 근로소득, 사업소득 또는 종교인소득이 있고 근로장려금과 자녀장려금 신청요건을 모두 충족하는 가구가 매년 5월 주소지 관할세무서에 신청하면 근로소득, 사업소득 또는 종교인소득에 따라 산정된 근로장려금과 부양자녀 수에 따라 자녀장려금 지급', '지원유형': '현금'}\n",
            "{'부서명': '금융정책과', '상세조회URL': 'https://gov.kr/portal/rcvfvrSvc/dtlEx/116010000001', '서비스ID': '116010000001', '서비스명': '월세 자금보증', '서비스목적': '저소득층 등에게 월세자금보증을 하여 저소득층의 주거 안정성 제고', '선정기준': '○ (주택도시기금 주거안정 월세대출 대상자 요건) 무주택 세대주(세대원 전원 포함)로서 다음 중 하나에 해당하는 경우 지원\\r\\n- 취업준비생(신청일 현재 만 35세 이하의 무소득자이며 부모 소득이 6천만원 이하인 자)\\r\\n- 희망키움통장 가입자\\r\\n- 최근 1년 이내 수급사실이 인정되는 근로장려금 수급자\\r\\n- 취업 후 5년 이내인 사회초년생으로 신청일 현재 만 35세 이하이며 부부합산 연소득 4천만원 이하인 자\\r\\n- 최근 1년 이내 수급사실이 인정되는 자녀장려금 수급자\\r\\n- 주거급여 수급자\\r\\n- 부부합산 연소득 5천만원 이하인 자로 위 5개 대상자에 해당되지 않는 자', '소관기관명': '금융위원회', '소관기관코드': '1160100', '신청기한': '주택도시기금 주거안정 월세대출 규정에 따름', '신청방법': '신청 방식 : 은행 방문\\r\\n신청 절차\\r\\n1. 은행 방문 및 상담 신청\\r\\n2. 보증, 대출 상담 및 보증, 대출금액 산정\\r\\n3. 보증, 대출 신청 및 서류 제출\\r\\n4. 보증, 대출 심사 및 승인\\r\\n5. 대출금 수령', '조회수': 5446, '지원내용': '○ 주택도시기금 주거안정 월세대출 요건을 충족하는 대상자에 대해 월세자금보증 지원\\r\\n - 월세금을 2년간 환산한 금액의 90%를 지원', '지원대상': '○ 보증금 1억 원 이하 및 월세금 60만 원 이하인 월세 계약을 체결한 주택도시 기금 주거안정 월세대출 대상자', '지원유형': '상담/법률지원||현금(융자)'}\n",
            "{'부서명': '산업금융과', '상세조회URL': 'https://gov.kr/portal/rcvfvrSvc/dtlEx/116010000027', '서비스ID': '116010000027', '서비스명': '‘힘내라 대한민국’특별운영자금 (산업은행)', '서비스목적': '코로나19로 피해를 입은 중소ㆍ중견기업 지원 프로그램', '선정기준': '○ 산업은행 심사기준 충족 업체', '소관기관명': '금융위원회', '소관기관코드': '1160100', '신청기한': '한도 소진 시', '신청방법': '○ 3.26일부터 기업의 신청접수ㆍ지원 중\\r\\n\\r\\n ➡ 산업은행 전국 영업점을 방문하여 신청 가능(홈페이지(www.kdb.co.kr) 또는 고객센터 등 유선상담 가능)', '조회수': 1143, '지원내용': '○ 자금용도 : 운영자금\\r\\n\\r\\n○ 한도 : 기존 대출한도 外 일정범위내 특별한도 부여(중견기업 최대 1,200억원, 중소기업 최대 600억원)\\r\\n ※ 매출액 등에 따른 기존 운영자금 대출한도 외 추가한도 부여\\r\\n\\r\\n○ 우대조건 : 최대 0.90%p 금리 우대, 심사절차 간소화 등', '지원대상': '○ 지원대상 : 코로나19 등 질병, 자연재해 등 국가 재난 발생으로 피해를 입은 중소ㆍ중견기업(의료법인 등 비영리법인도 포함)', '지원유형': '현금(융자)'}\n",
            "{'부서명': '어선안전정책과', '상세조회URL': 'https://gov.kr/portal/rcvfvrSvc/dtlEx/119200000001', '서비스ID': '119200000001', '서비스명': '친환경 에너지 절감 장비 보급', '서비스목적': '연근해 어업인을 대상으로 노후기관ㆍ장비ㆍ설비 대체 보급으로 안정적 조업기반 조성', '선정기준': '○ 기관ㆍ장비ㆍ설비사업의 사업자 선정은 다음의 순위로 하되, 동일 순위자의 세부 우선순위는 저마력 기관 대체 신청자, 소형어선 어업인(수협 위판실적 要), 생분해성 \\r\\n\\r\\n○ 기관·장비·설비사업의 사업자 선정은 다음의 순위로 하되, 동일 순위자의 세부 우선순위는 저마력 기관 대체 신청자, 소형어선 어업인(수협 위판실적 要), 생분해성 어구 시범사업 참여 어업인, 어업인 후계자, 국산기관 사용자 순으로 함\\r\\n - 다만, LED등의 경우 집어등을 작업등보다 우선으로 하며, 동일 순위자의 우선순위는 소형어선 어업인(수협 위판실적 要), 어업인 후계자 순으로 함\\r\\n      * 대체기관의 단종 등 부득이한 경우 상위 마력을 적용할 수 있으며 그 허용범위는 10% 이하로 한다.\\r\\n    ① 유류절감장치 및 LED 등을 설치하고자 하는 자(신청자가 있을 경우 최우선 지원)\\r\\n    ② 육상용 기관을 해상용 디젤기관으로 대체하고자 하는 자\\r\\n    ③ 사용연수가 많은 노후 기관을 해상용 디젤기관으로 대체하고자 하는 자\\r\\n    ④ 무동력 어선에 신규로 해상용 디젤기관을 설치하고자 하는 자\\r\\n    ⑤ 노후장비·설비를 대체하고자 하는 자\\r\\n    ⑥ 법령으로 설치가 의무화된 노후장비·설비를 희망하는 자\\r\\n    ⑦ 새로운 장비·설비를 설치하고자 하는 자\\r\\n    ⑧ 가솔린 기관을 대체하고자 하는 자. 단, ①∼⑦ 순위보다 우선지원 불가하며 전체 보조금의 30%를 넘을 수 없음 \\r\\n      * 기타 지자체 자체실정에 따라 우선순위 추가 가능\\r\\n\\r\\n○  사업자 선정을 위하여 필요한 경우 자체심의 기구에 상정·심의할 수 있으며 사업포기에 대비하여 예비사업자를 선정할 수 있음 (당해년도 사업에만 적용)\\r\\n      * 단, 추가모집 사업자 선정시 지자체 판단에 의거 심의생략 가능', '소관기관명': '해양수산부', '소관기관코드': '1192000', '신청기한': '연초 모집공고에 따름', '신청방법': '해당 지자체(시군구청)에 방문하여 신청', '조회수': 771, '지원내용': '○  유류비 절감을 위한 유류절감장치 설치\\r\\n○  저효율(육상기관 포함)기관 및 사용연수가 많은 노후기관의 대체 또는 무동력 어선에 신규 기관 설치\\r\\n○  어선의 안전·복지 등을 위한 장비 또는 설비\\r\\n   ※ 어선법에 따른 예비검사, 확인 또는 검정을 받은 어선기관, 용품에 한정', '지원대상': '○ 어선 노후기관, 장비를 교체하고자 하는 연근해 어업인', '지원유형': '현금'}\n",
            "{'부서명': '심판관', '상세조회URL': 'https://gov.kr/portal/rcvfvrSvc/dtlEx/119200000007', '서비스ID': '119200000007', '서비스명': '해양사고 국선 심판변론인 선정 지원', '서비스목적': '해양사고관련자가 사회적 약자에 해당하는 경우 해양사고관련자의 권리보호를 위하여 국선 심판변론인 선정', '선정기준': '○ 다음 각각 호의 어느 하나에 해당하는 경우로서 심판변론인이 없는 때\\r\\n○ 국선 심판변론인 선정 기준 \\r\\n - 해양사고관련자가 미성년자인 경우\\r\\n - 해양사고관련자가 70세 이상인 경우\\r\\n - 해양사고관련자가 청각 또는 언어장애 및 심신장애의 의심이 있는 경우\\r\\n - 중위소득(4인가구 기준) 60%이하, 국민기초생활 수급권자 \\r\\n - 교육정도(고졸 이하) \\r\\n - 국가유공자, 그유족 또는 가족', '소관기관명': '해양수산부', '소관기관코드': '1192000', '신청기한': '해당사건 접수후', '신청방법': '우편접수 \\r\\nㅇ 중앙해양안전심판원 : 세종시 가름로232 세종비즈니스센터 A동 521호(30121)\\r\\nㅇ 부산지방해양안전심판원 : 부산광역시 동구 충장대로 351(48755)\\r\\nㅇ 인천지방해양안전심판원 : 인천광역시 미추홀구 석정로239, 8층(22101)\\r\\nㅇ 목포지방해양안전심판원 : 전남 목포시 통일대로 130(58746)\\r\\nㅇ 동해지방해양안전심판원 : 강원도 동해시 한섬로 141-1(25769)', '조회수': 203, '지원내용': '○ 해양사고관련자가 심판원에 대하여 하는 신청ㆍ청구ㆍ진술 등의 대리 또는 대행\\r\\n\\r\\n○ 해양사고관련자에 대하여 하는 해양사고와 관련된 기술적 자문', '지원대상': '○ 사회적 약자(연령, 장애, 빈곤, 교육정도 등)에 해당하는 해양사고관련자', '지원유형': '기타||상담/법률지원'}\n",
            "{'부서명': '국제협력총괄과', '상세조회URL': 'https://gov.kr/portal/rcvfvrSvc/dtlEx/119200000008', '서비스ID': '119200000008', '서비스명': '옵서버 승선경비 지원', '서비스목적': '원양어업 입어수역을 관리하는 지역수산기구의 자원보존관리조치 이행을 위한 국제적 조업기준 준수여부 감시하는 옵서버 운영 지원', '선정기준': '○ 국제옵서버를 승선시킨 원양선사\\r\\n1) 한국수산자원공단에 국제옵서버 일정하여 선사부담급 수납(50%)\\r\\n2) 한국수산자원공단은 국고 부담분(50%)과 선사 부담분(50%)으로 국제옵서버 승선경비 지급', '소관기관명': '해양수산부', '소관기관코드': '1192000', '신청기한': '수시', '신청방법': '우편 또는 방문 접수(부산광역시 기장군 일광면 이동길 4 한국수산자원공단)', '조회수': 201, '지원내용': '○ 원양어선에 승선하여 활동하는 국제옵서버 승선경비 및 활동 지원', '지원대상': '○ 국제옵서버를 승선시킨 원양선사', '지원유형': '현금'}\n",
            "{'부서명': '원양산업과', '상세조회URL': 'https://gov.kr/portal/rcvfvrSvc/dtlEx/119200000010', '서비스ID': '119200000010', '서비스명': '합작수산물 관세 감면 추진', '서비스목적': '합작수산물과 공동수산물의 관세감면 추천', '선정기준': '○ 기획재정부령에 적합하게 수입하는 자', '소관기관명': '해양수산부', '소관기관코드': '1192000', '신청기한': '수시', '신청방법': \"○  해외합작법인(총지분 49%이상 확보)으로 원양어업을 하기 위하여 해양수산부장관에게 신고를 한 자가 허가받은 어선(생산수단)을 투입하여 해외합작법인이 포획한 수산물(불가피한 경우 해외합작법인의 계산과 책임으로 합작상대국 어업자를 통하여 포획한 경우 포함)을 직접 국내로 수출할 때 우리 부에서 추천한 물량에 한해 신청이 가능함\\r\\n\\r\\n○  관세감면 조건을 충족하여 우리부에서 관세감면 물량을 배정 받은 경우 관세감면 추천 신청 시에는 합작어획물 유무 확인을 위해 “관세감면추천신청서”에 다음의\\xa0서류를 첨부하여 민원24사이트를 통해 신청서 제출\\r\\n  - 본선 인수증(Mate's Receipt)\\r\\n  - 선하증권(Bill of Lading)\\r\\n  - 쿼터확보 내용(쿼터제도를 운용하는 국가에서 수입하는 합작수산물에 한함)\\r\\n  - 물품매도확인서(OFFER SHEET)\\r\\n  - 전재 보고서(DAILY CATCH REPORT)\\r\\n  - 기타 합작수산물 해당 여부 확인에 필요한 서류\\r\\n\\r\\n○  해외합작 원양어업자가\\xa0새로운\\xa0합작사업을\\xa0시작하였거나\\xa0새로운 생산수단을\\xa0투입하였을 경우에는 합작사업 증빙\\xa0서류\\xa0제출\\r\\n  - 해외합작법인에\\xa0대한\\xa0영업허가서\\r\\n  - 해외현지법인(제5조의 생산수단)에 대한 어업허가서\\r\\n  - 합작국의 사업자에게 발행한 외국인 투자허가서(신고 수리서, 승인서 또는 공문서 등 포함)\\r\\n  - 기타 실제 조업\\xa0확인에\\xa0필요한\\xa0서류\", '조회수': 199, '지원내용': '○ 관세감면', '지원대상': '○ 기획재정부령에서 정한 방법 또는 요건에 적합하게 채포한 수산물을 국내로 수입하는 자', '지원유형': '현금(감면)'}\n",
            "{'부서명': '어촌어항과', '상세조회URL': 'https://gov.kr/portal/rcvfvrSvc/dtlEx/119200000012', '서비스ID': '119200000012', '서비스명': '귀어 창업 및 주택구입 지원(융자)', '서비스목적': '귀어업인이 되기를 희망하는 도시민들이 어촌지역에 안정적으로 정착할 수 있도록 창업(수산업, 어촌비즈니스업) 및 주택마련 자금을 지원하여 어촌사회 활력 제고', '선정기준': '○ 사업대상자 및 지원자격 요건을 갖춘 자 중에서 시·도지사(시장·군수·구청장)가 심사를 거쳐 지원대상자로 선발한 자', '소관기관명': '해양수산부', '소관기관코드': '1192000', '신청기한': '농어촌지역 전입일로부터 만 5년이내 신청 가능', '신청방법': '시군구청에 방문하여 신청', '조회수': 2785, '지원내용': '○ 지원대상자로 선정된 자가 사업(일부완료 또는 완료) 후 담보(신용, 물건)를 제공하고, 금융기관(수협은행)에서 융자를 받으면, 해양수산부에서 이자 차이(기준금리-대출금리 2.0%)를 지원', '지원대상': '○ 귀어업인(희망자 포함) 및 재촌비어업인으로서, 사업신청 연도기준 만 65세 이하인 자', '지원유형': '현금(융자)'}\n",
            "{'부서명': '원양산업과', '상세조회URL': 'https://gov.kr/portal/rcvfvrSvc/dtlEx/119200000016', '서비스ID': '119200000016', '서비스명': '원양어업 경영자금 지원', '서비스목적': '영세어업인(신고, 마을, 종묘생산 어업 등)의 금융부담완화 및 지속적인 어업활동 영위를 위한 저리의 어업경영자금 지원', '선정기준': '○ 원양산업발전법에 따른 국적선사 및 합작선사', '소관기관명': '해양수산부', '소관기관코드': '1192000', '신청기한': '연중', '신청방법': '○ 우편접수(서울특별시 서초구 논현로 83 한국원양산업협회)\\r\\n\\r\\n○ 사업시행지침 시달(해수부) → 세부시행계획 보고 및 통보(원양협회) → 신청서 작성(사업자) → 신청서 접수(원양협회) → 운영위원회 심사(원양협회) → 사업자 통보(원양협회→수협중앙회)→여신심사(수협중앙회)→적격자 통보(수협중앙회→원양협회, 사업자)→대출실행(수협중앙회) \\r\\n\\r\\n○  사업문의 : 한국원양산업협회 02-589-1606 \\r\\n                  해양수산부 원양산업과 044-200-5362', '조회수': 215, '지원내용': '○ 어업경영자금 융자(수협은행 및 일선수협)', '지원대상': '○ 어업경영체(어업인, 어업법인 등)', '지원유형': '현금||현금(융자)'}\n"
          ]
        }
      ]
    },
    {
      "cell_type": "code",
      "source": [
        "#xml\n",
        "from bs4 import BeautifulSoup\n",
        "client_id = 'Xxhh8sGYq1WU1pdXdUqB'\n",
        "client_seceret = 'x45nnxHUyq'\n",
        "site_url = 'https://openapi.naver.com/v1/search/book.xml'\n",
        "query = input(\"검색어:\")\n",
        "q_param = \"query=\"+urllib.parse.quote(query)\n",
        "print(q_param)\n",
        "query_str = site_url+'?'+q_param\n",
        "print(query_str)\n",
        "cid='X-Naver-Client-Id'\n",
        "csec = 'X-Naver-Client-Secret'\n",
        "request = urllib.request.Request(query_str) #요청 가능한 개체 생성\n",
        "request.add_header(cid,client_id) #해더에 client id 추가\n",
        "request.add_header(csec,client_seceret) # 해더 clientseceret 추가\n",
        "print(request)\n",
        "response = urllib.request.urlopen(request)#웹 페이지에 요청\n",
        "if response.getcode() != 200:\n",
        "  print(\"요청 실패!!\")\n",
        "else:\n",
        "  print(\"성공!!\")\n",
        "data = response.read().decode('utf-8')\n",
        "print(data)\n",
        "hdoc = BeautifulSoup(data,'html.parser')\n",
        "print(hdoc)\n",
        "items = hdoc.find_all('item')\n",
        "print(len(items),type(items))\n",
        "for item in items:\n",
        "  print(\"======================\")\n",
        "  print(item.find('title').get_text())\n",
        "  print(item.find('author').get_text())\n",
        "  print(item.find('price').get_text())"
      ],
      "metadata": {
        "id": "aGCEcrghuQP9",
        "colab": {
          "base_uri": "https://localhost:8080/"
        },
        "outputId": "12df7515-0b73-4df3-c40e-11ee33063f0a"
      },
      "execution_count": 64,
      "outputs": [
        {
          "output_type": "stream",
          "name": "stdout",
          "text": [
            "검색어:귀멸\n",
            "query=%EA%B7%80%EB%A9%B8\n",
            "https://openapi.naver.com/v1/search/book.xml?query=%EA%B7%80%EB%A9%B8\n",
            "<urllib.request.Request object at 0x7f936dfa0b10>\n",
            "성공!!\n",
            "<?xml version=\"1.0\" encoding=\"UTF-8\"?><rss version=\"2.0\"><channel><title>Naver Open API - book ::'귀멸'</title><link>https://search.naver.com</link><description>Naver Search Result</description><lastBuildDate>Mon, 09 May 2022 19:00:11 +0900</lastBuildDate><total>196</total><start>1</start><display>10</display><item><title>&lt;b&gt;귀멸&lt;/b&gt;의 칼날 외전</title><link>http://book.naver.com/bookdb/book_detail.php?bid=21356149</link><image>https://bookthumb-phinf.pstatic.net/cover/213/561/21356149.jpg?type=m1&amp;udate=20220423</image><author>Gotouge Koyoharu|Ryouji Hirano</author><price>6000</price><discount>5400</discount><publisher>학산문화사</publisher><pubdate>20211225</pubdate><isbn>1134895690 9791134895693</isbn><description>일본에서 작품 시리즈 누계 1억 5천만 부 돌파!!공식 스핀오프 &lt;b&gt;귀멸&lt;/b&gt;의 칼날 외전 발매!!첫 연재작으로 엄청난 화제를 몰고 있는 〈&lt;b&gt;귀멸&lt;/b&gt;의 칼날〉의 공식 스핀오프 외전이 발행된다. 수주와 염주가 주인공이 되는 이야기 두 편과 4컷 만화들이〈&lt;b&gt;귀멸&lt;/b&gt;의 칼날〉의 팬들에게 새로운 재미를 줄 것이다.[작품 내용]수주... </description></item><item><title>&lt;b&gt;귀멸&lt;/b&gt;의 칼날 23/완결 (긴 세월 반짝이는 생명)</title><link>http://book.naver.com/bookdb/book_detail.php?bid=18984659</link><image>https://bookthumb-phinf.pstatic.net/cover/189/846/18984659.jpg?type=m1&amp;udate=20210426</image><author>고토게 코요하루</author><price>5000</price><discount>4500</discount><publisher>학산문화사</publisher><pubdate>20210425</pubdate><isbn>1134882769 9791134882761</isbn><description>인간과 혈귀가 펼치는 이야기!고토게 코요하루의 만화 [&lt;b&gt;귀멸&lt;/b&gt;의 칼날]. 다이쇼 시대, 숯을 파는 마음씨 착한 소년 카마도 탄지로는 어느날 도깨비에게 가족을 몰살당한다. 유일하게 살아남은 누이동생 카마도 네즈코 마저도 혈귀로 변하고 만다. 절망적인 현실에 큰 타격을 입은 카마도 탄지로였지만, 카마도... </description></item><item><title>&lt;b&gt;귀멸&lt;/b&gt;의 칼날 22 (돌고 도는 인연)</title><link>http://book.naver.com/bookdb/book_detail.php?bid=17896845</link><image>https://bookthumb-phinf.pstatic.net/cover/178/968/17896845.jpg?type=m1&amp;udate=20220412</image><author>Koyoharu Gotoge</author><price>5000</price><discount>4500</discount><publisher>학산문화사</publisher><pubdate>20210125</pubdate><isbn>1134875045 9791134875046</isbn><description>인간과 혈귀가 펼치는 이야기!고토게 코요하루의 만화 [&lt;b&gt;귀멸&lt;/b&gt;의 칼날]. 다이쇼 시대, 숯을 파는 마음씨 착한 소년 카마도 탄지로는 어느날 도깨비에게 가족을 몰살당한다. 유일하게 살아남은 누이동생 카마도 네즈코 마저도 혈귀로 변하고 만다. 절망적인 현실에 큰 타격을 입은 카마도 탄지로였지만, 카마도... </description></item><item><title>&lt;b&gt;귀멸&lt;/b&gt;의 칼날 21</title><link>http://book.naver.com/bookdb/book_detail.php?bid=17469734</link><image>https://bookthumb-phinf.pstatic.net/cover/174/697/17469734.jpg?type=m1&amp;udate=20220412</image><author>고토게 코요하루</author><price>5000</price><discount>4500</discount><publisher>학산문화사</publisher><pubdate>20201126</pubdate><isbn>1134872569 9791134872564</isbn><description>상현 1과의 격투, 마침내 결판의 순간!!\n",
            "\n",
            "사력을 다한 싸움 끝에 귀살대는 가까스로 승리를 거두지만, 그 대가는 너무도 컸다…. 더욱이, 무한성 밑바닥에서 도깨비의 시조 키부츠지 무잔이 움직이기 시작한다…! 그 때, 탄지로는-?!</description></item><item><title>&lt;b&gt;귀멸&lt;/b&gt;의 칼날 (바람의 이정표)</title><link>http://book.naver.com/bookdb/book_detail.php?bid=22344694</link><image>https://bookthumb-phinf.pstatic.net/cover/223/446/22344694.jpg?type=m1&amp;udate=20220418</image><author>고토게 코요하루|야지마 아야</author><price>7000</price><discount>6300</discount><publisher>학산문화사</publisher><pubdate>20220410</pubdate><isbn>1134852835 9791134852832</isbn><description>바람의 호흡 사용자,쿠메노 마사치카와의 만남을 계기로귀살대에 들어오게 된 소년 시절의 사네미.절차탁마하며 &apos;주&apos;를 목표로 하는 두 사람에게어떤 임무가 주어지는데….풍주 시나즈가와 사네미의 탄생비화 등 전5화를 수록!</description></item><item><title>&lt;b&gt;귀멸&lt;/b&gt;의 칼날 행복의 꽃</title><link>http://book.naver.com/bookdb/book_detail.php?bid=21369066</link><image>https://bookthumb-phinf.pstatic.net/cover/213/690/21369066.jpg?type=m1&amp;udate=20220204</image><author>고토게 코요하루</author><price>7000</price><discount>6300</discount><publisher>학산문화사</publisher><pubdate>20211216</pubdate><isbn>1134850697 9791134850692</isbn><description>“괜찮아?”\n",
            "그때, 해영의 어깨를 꽉 잡는 묵직하고도 부드러운 손길이 느껴졌다. 그 아이를 본 순간 입이 떨어지지 않았다. \n",
            "자신이 그동안 바라왔던 이상향의 모습을 한 준서가 눈앞에 있었기 때문이다.\n",
            "그저 홀로 준서만을 바라보던 해영은 어느 날, 뜨개질로 준서와 좀 더 친한 사이로 발전하게 된다.\n",
            "하지만... </description></item><item><title>&lt;b&gt;귀멸&lt;/b&gt;의 칼날 20</title><link>http://book.naver.com/bookdb/book_detail.php?bid=16745264</link><image>https://bookthumb-phinf.pstatic.net/cover/167/452/16745264.jpg?type=m1&amp;udate=20220412</image><author>Koyoharu Gotouge</author><price>5000</price><discount>4500</discount><publisher>학산문화사</publisher><pubdate>20200924</pubdate><isbn>1134866259 9791134866259</isbn><description>고토게 코요하루의 『&lt;b&gt;귀멸&lt;/b&gt;의 칼날』 제20권. 상현1과 교전하는 암주(岩柱) 히메지마와 풍주(風柱) 시나즈가와. 더더욱 치열해지는 싸움 속에서 두 명의 주는 반점을 드러내고 연대해 싸우지만, 경이로운 힘에 계속 압도당한다. 그리고, 상현1의 일부를 집어삼켜 회복한 겐야는…. 격투의 향방은-?!</description></item><item><title>&lt;b&gt;귀멸&lt;/b&gt;의 칼날 19</title><link>http://book.naver.com/bookdb/book_detail.php?bid=16417255</link><image>https://bookthumb-phinf.pstatic.net/cover/164/172/16417255.jpg?type=m1&amp;udate=20220412</image><author>고토게 코요하루</author><price>5000</price><discount>4500</discount><publisher>학산문화사</publisher><pubdate>20200725</pubdate><isbn>1134860617 9791134860615</isbn><description>고토게 코요하루의 『&lt;b&gt;귀멸&lt;/b&gt;의 칼날』 제19권. 카나오와 이노스케 대 상현2 도우마의 싸움은 극한으로─!! 가족을 죽인 도깨비를 앞에 두고 두 사람은 분노에 치를 떨지만, 강력한 혈귀술에 번번히 밀려 악전고투한다. 가까이 가지도 못하는 열세를 뒤집고, 두 사람은 과연 원수를 갚을 수 있을 것인가…?!</description></item><item><title>&lt;b&gt;귀멸&lt;/b&gt;의 칼날 한쪽 날개의 나비</title><link>http://book.naver.com/bookdb/book_detail.php?bid=21992903</link><image>https://bookthumb-phinf.pstatic.net/cover/219/929/21992903.jpg?type=m1&amp;udate=20220225</image><author>고토게 코요하루|야지마 아야</author><price>7000</price><discount>6300</discount><publisher>학산문화사</publisher><pubdate>20220210</pubdate><isbn>1134852827 9791134852825</isbn><description>도깨비에게 부모님을 잃은 어린 카나에와시노부를 구해 준 히메지마. 귀살대에 들어가기를 희망하는 두 사람에게어떤 시련을 내리는데…. 큰 인기를 끈 &apos;주(柱)&apos;의 구성원들이 등장하는다섯 편의 이야기를 대공개! 호평을 받은 〈&lt;b&gt;귀멸&lt;/b&gt; 학원〉소설판 역시 수록!</description></item><item><title>&lt;b&gt;귀멸&lt;/b&gt;의 칼날 16</title><link>http://book.naver.com/bookdb/book_detail.php?bid=16284296</link><image>https://bookthumb-phinf.pstatic.net/cover/162/842/16284296.jpg?type=m1&amp;udate=20200310</image><author>고토게 코요하루</author><price>5000</price><discount>4500</discount><publisher>학산문화사</publisher><pubdate>20200315</pubdate><isbn>1134854137 9791134854133</isbn><description>주(柱) 훈련을 받으러 암주(岩柱) 히메지마를 찾아간 탄지로. 폭포수를 맞고, 통나무를 짊어지고, 바위를 움직이는 혹독한 수련을 거쳐 탄지로는 과연 히메지마에게 인정받을 수 있을 것인가?! 그 이면에서 무잔은 네즈코와 우부야시키의 행방을 알아내려 하는데─?!</description></item></channel></rss>\n",
            "<?xml version=\"1.0\" encoding=\"UTF-8\"?><rss version=\"2.0\"><channel><title>Naver Open API - book ::'귀멸'</title><link/>https://search.naver.com<description>Naver Search Result</description><lastbuilddate>Mon, 09 May 2022 19:00:11 +0900</lastbuilddate><total>196</total><start>1</start><display>10</display><item><title>&lt;b&gt;귀멸&lt;/b&gt;의 칼날 외전</title><link/>http://book.naver.com/bookdb/book_detail.php?bid=21356149<image/>https://bookthumb-phinf.pstatic.net/cover/213/561/21356149.jpg?type=m1&amp;udate=20220423<author>Gotouge Koyoharu|Ryouji Hirano</author><price>6000</price><discount>5400</discount><publisher>학산문화사</publisher><pubdate>20211225</pubdate><isbn>1134895690 9791134895693</isbn><description>일본에서 작품 시리즈 누계 1억 5천만 부 돌파!!공식 스핀오프 &lt;b&gt;귀멸&lt;/b&gt;의 칼날 외전 발매!!첫 연재작으로 엄청난 화제를 몰고 있는 〈&lt;b&gt;귀멸&lt;/b&gt;의 칼날〉의 공식 스핀오프 외전이 발행된다. 수주와 염주가 주인공이 되는 이야기 두 편과 4컷 만화들이〈&lt;b&gt;귀멸&lt;/b&gt;의 칼날〉의 팬들에게 새로운 재미를 줄 것이다.[작품 내용]수주... </description></item><item><title>&lt;b&gt;귀멸&lt;/b&gt;의 칼날 23/완결 (긴 세월 반짝이는 생명)</title><link/>http://book.naver.com/bookdb/book_detail.php?bid=18984659<image/>https://bookthumb-phinf.pstatic.net/cover/189/846/18984659.jpg?type=m1&amp;udate=20210426<author>고토게 코요하루</author><price>5000</price><discount>4500</discount><publisher>학산문화사</publisher><pubdate>20210425</pubdate><isbn>1134882769 9791134882761</isbn><description>인간과 혈귀가 펼치는 이야기!고토게 코요하루의 만화 [&lt;b&gt;귀멸&lt;/b&gt;의 칼날]. 다이쇼 시대, 숯을 파는 마음씨 착한 소년 카마도 탄지로는 어느날 도깨비에게 가족을 몰살당한다. 유일하게 살아남은 누이동생 카마도 네즈코 마저도 혈귀로 변하고 만다. 절망적인 현실에 큰 타격을 입은 카마도 탄지로였지만, 카마도... </description></item><item><title>&lt;b&gt;귀멸&lt;/b&gt;의 칼날 22 (돌고 도는 인연)</title><link/>http://book.naver.com/bookdb/book_detail.php?bid=17896845<image/>https://bookthumb-phinf.pstatic.net/cover/178/968/17896845.jpg?type=m1&amp;udate=20220412<author>Koyoharu Gotoge</author><price>5000</price><discount>4500</discount><publisher>학산문화사</publisher><pubdate>20210125</pubdate><isbn>1134875045 9791134875046</isbn><description>인간과 혈귀가 펼치는 이야기!고토게 코요하루의 만화 [&lt;b&gt;귀멸&lt;/b&gt;의 칼날]. 다이쇼 시대, 숯을 파는 마음씨 착한 소년 카마도 탄지로는 어느날 도깨비에게 가족을 몰살당한다. 유일하게 살아남은 누이동생 카마도 네즈코 마저도 혈귀로 변하고 만다. 절망적인 현실에 큰 타격을 입은 카마도 탄지로였지만, 카마도... </description></item><item><title>&lt;b&gt;귀멸&lt;/b&gt;의 칼날 21</title><link/>http://book.naver.com/bookdb/book_detail.php?bid=17469734<image/>https://bookthumb-phinf.pstatic.net/cover/174/697/17469734.jpg?type=m1&amp;udate=20220412<author>고토게 코요하루</author><price>5000</price><discount>4500</discount><publisher>학산문화사</publisher><pubdate>20201126</pubdate><isbn>1134872569 9791134872564</isbn><description>상현 1과의 격투, 마침내 결판의 순간!!\n",
            "\n",
            "사력을 다한 싸움 끝에 귀살대는 가까스로 승리를 거두지만, 그 대가는 너무도 컸다…. 더욱이, 무한성 밑바닥에서 도깨비의 시조 키부츠지 무잔이 움직이기 시작한다…! 그 때, 탄지로는-?!</description></item><item><title>&lt;b&gt;귀멸&lt;/b&gt;의 칼날 (바람의 이정표)</title><link/>http://book.naver.com/bookdb/book_detail.php?bid=22344694<image/>https://bookthumb-phinf.pstatic.net/cover/223/446/22344694.jpg?type=m1&amp;udate=20220418<author>고토게 코요하루|야지마 아야</author><price>7000</price><discount>6300</discount><publisher>학산문화사</publisher><pubdate>20220410</pubdate><isbn>1134852835 9791134852832</isbn><description>바람의 호흡 사용자,쿠메노 마사치카와의 만남을 계기로귀살대에 들어오게 된 소년 시절의 사네미.절차탁마하며 &amp;apos주&amp;apos를 목표로 하는 두 사람에게어떤 임무가 주어지는데….풍주 시나즈가와 사네미의 탄생비화 등 전5화를 수록!</description></item><item><title>&lt;b&gt;귀멸&lt;/b&gt;의 칼날 행복의 꽃</title><link/>http://book.naver.com/bookdb/book_detail.php?bid=21369066<image/>https://bookthumb-phinf.pstatic.net/cover/213/690/21369066.jpg?type=m1&amp;udate=20220204<author>고토게 코요하루</author><price>7000</price><discount>6300</discount><publisher>학산문화사</publisher><pubdate>20211216</pubdate><isbn>1134850697 9791134850692</isbn><description>“괜찮아?”\n",
            "그때, 해영의 어깨를 꽉 잡는 묵직하고도 부드러운 손길이 느껴졌다. 그 아이를 본 순간 입이 떨어지지 않았다. \n",
            "자신이 그동안 바라왔던 이상향의 모습을 한 준서가 눈앞에 있었기 때문이다.\n",
            "그저 홀로 준서만을 바라보던 해영은 어느 날, 뜨개질로 준서와 좀 더 친한 사이로 발전하게 된다.\n",
            "하지만... </description></item><item><title>&lt;b&gt;귀멸&lt;/b&gt;의 칼날 20</title><link/>http://book.naver.com/bookdb/book_detail.php?bid=16745264<image/>https://bookthumb-phinf.pstatic.net/cover/167/452/16745264.jpg?type=m1&amp;udate=20220412<author>Koyoharu Gotouge</author><price>5000</price><discount>4500</discount><publisher>학산문화사</publisher><pubdate>20200924</pubdate><isbn>1134866259 9791134866259</isbn><description>고토게 코요하루의 『&lt;b&gt;귀멸&lt;/b&gt;의 칼날』 제20권. 상현1과 교전하는 암주(岩柱) 히메지마와 풍주(風柱) 시나즈가와. 더더욱 치열해지는 싸움 속에서 두 명의 주는 반점을 드러내고 연대해 싸우지만, 경이로운 힘에 계속 압도당한다. 그리고, 상현1의 일부를 집어삼켜 회복한 겐야는…. 격투의 향방은-?!</description></item><item><title>&lt;b&gt;귀멸&lt;/b&gt;의 칼날 19</title><link/>http://book.naver.com/bookdb/book_detail.php?bid=16417255<image/>https://bookthumb-phinf.pstatic.net/cover/164/172/16417255.jpg?type=m1&amp;udate=20220412<author>고토게 코요하루</author><price>5000</price><discount>4500</discount><publisher>학산문화사</publisher><pubdate>20200725</pubdate><isbn>1134860617 9791134860615</isbn><description>고토게 코요하루의 『&lt;b&gt;귀멸&lt;/b&gt;의 칼날』 제19권. 카나오와 이노스케 대 상현2 도우마의 싸움은 극한으로─!! 가족을 죽인 도깨비를 앞에 두고 두 사람은 분노에 치를 떨지만, 강력한 혈귀술에 번번히 밀려 악전고투한다. 가까이 가지도 못하는 열세를 뒤집고, 두 사람은 과연 원수를 갚을 수 있을 것인가…?!</description></item><item><title>&lt;b&gt;귀멸&lt;/b&gt;의 칼날 한쪽 날개의 나비</title><link/>http://book.naver.com/bookdb/book_detail.php?bid=21992903<image/>https://bookthumb-phinf.pstatic.net/cover/219/929/21992903.jpg?type=m1&amp;udate=20220225<author>고토게 코요하루|야지마 아야</author><price>7000</price><discount>6300</discount><publisher>학산문화사</publisher><pubdate>20220210</pubdate><isbn>1134852827 9791134852825</isbn><description>도깨비에게 부모님을 잃은 어린 카나에와시노부를 구해 준 히메지마. 귀살대에 들어가기를 희망하는 두 사람에게어떤 시련을 내리는데…. 큰 인기를 끈 &amp;apos주(柱)&amp;apos의 구성원들이 등장하는다섯 편의 이야기를 대공개! 호평을 받은 〈&lt;b&gt;귀멸&lt;/b&gt; 학원〉소설판 역시 수록!</description></item><item><title>&lt;b&gt;귀멸&lt;/b&gt;의 칼날 16</title><link/>http://book.naver.com/bookdb/book_detail.php?bid=16284296<image/>https://bookthumb-phinf.pstatic.net/cover/162/842/16284296.jpg?type=m1&amp;udate=20200310<author>고토게 코요하루</author><price>5000</price><discount>4500</discount><publisher>학산문화사</publisher><pubdate>20200315</pubdate><isbn>1134854137 9791134854133</isbn><description>주(柱) 훈련을 받으러 암주(岩柱) 히메지마를 찾아간 탄지로. 폭포수를 맞고, 통나무를 짊어지고, 바위를 움직이는 혹독한 수련을 거쳐 탄지로는 과연 히메지마에게 인정받을 수 있을 것인가?! 그 이면에서 무잔은 네즈코와 우부야시키의 행방을 알아내려 하는데─?!</description></item></channel></rss>\n",
            "10 <class 'bs4.element.ResultSet'>\n",
            "======================\n",
            "<b>귀멸</b>의 칼날 외전\n",
            "Gotouge Koyoharu|Ryouji Hirano\n",
            "6000\n",
            "======================\n",
            "<b>귀멸</b>의 칼날 23/완결 (긴 세월 반짝이는 생명)\n",
            "고토게 코요하루\n",
            "5000\n",
            "======================\n",
            "<b>귀멸</b>의 칼날 22 (돌고 도는 인연)\n",
            "Koyoharu Gotoge\n",
            "5000\n",
            "======================\n",
            "<b>귀멸</b>의 칼날 21\n",
            "고토게 코요하루\n",
            "5000\n",
            "======================\n",
            "<b>귀멸</b>의 칼날 (바람의 이정표)\n",
            "고토게 코요하루|야지마 아야\n",
            "7000\n",
            "======================\n",
            "<b>귀멸</b>의 칼날 행복의 꽃\n",
            "고토게 코요하루\n",
            "7000\n",
            "======================\n",
            "<b>귀멸</b>의 칼날 20\n",
            "Koyoharu Gotouge\n",
            "5000\n",
            "======================\n",
            "<b>귀멸</b>의 칼날 19\n",
            "고토게 코요하루\n",
            "5000\n",
            "======================\n",
            "<b>귀멸</b>의 칼날 한쪽 날개의 나비\n",
            "고토게 코요하루|야지마 아야\n",
            "7000\n",
            "======================\n",
            "<b>귀멸</b>의 칼날 16\n",
            "고토게 코요하루\n",
            "5000\n"
          ]
        }
      ]
    },
    {
      "cell_type": "code",
      "source": [
        "#xml\n",
        "site_url= 'http://apis.data.go.kr/1051000/MoefOpenAPI/T_OPD_PRMSCT_SBBGST'\n",
        "page_param= 'pageNo=1'\n",
        "rows_param= 'numOfRows=10'\n",
        "resulttype_prarm= 'resultType=xml'\n",
        "year_param= 'bsnsyear=2021'\n",
        "catagory_param= 'realm_nm=일반·지방행정'\n",
        "catagory_param2 = urllib.parse.quote(catagory_param)\n",
        "sk_param= 'serviceKey=Y5OJd2onMsLI8lXegBJBuwokLEvtik%2BvcgNbGerWSg%2FZ69vFdRVzpaAzVHSurt46FQukkhUDLL%2F1w4oMM86Ugg%3D%3D'\n",
        "query_str= site_url+'?'+sk_param+'&'+page_param+'&'+rows_param+'&'+resulttype_prarm+'&'+year_param+'&'+catagory_param2\n",
        "print(query_str)"
      ],
      "metadata": {
        "colab": {
          "base_uri": "https://localhost:8080/"
        },
        "id": "NpIOOTMr9yfS",
        "outputId": "3796eec1-47ed-4875-f833-04e45f90c149"
      },
      "execution_count": 65,
      "outputs": [
        {
          "output_type": "stream",
          "name": "stdout",
          "text": [
            "http://apis.data.go.kr/1051000/MoefOpenAPI/T_OPD_PRMSCT_SBBGST?serviceKey=Y5OJd2onMsLI8lXegBJBuwokLEvtik%2BvcgNbGerWSg%2FZ69vFdRVzpaAzVHSurt46FQukkhUDLL%2F1w4oMM86Ugg%3D%3D&pageNo=1&numOfRows=10&resultType=xml&bsnsyear=2021&realm_nm%3D%EC%9D%BC%EB%B0%98%C2%B7%EC%A7%80%EB%B0%A9%ED%96%89%EC%A0%95\n"
          ]
        }
      ]
    },
    {
      "cell_type": "code",
      "source": [
        "response = urllib.request.urlopen(query_str)\n",
        "if response.getcode() == 200:\n",
        "  print(\"성공\")\n",
        "else:\n",
        "  print(\"실패\")\n",
        "data = response.read().decode('utf-8')\n",
        "hdoc = BeautifulSoup(data, 'html.parser')\n",
        "items = hdoc.find_all('item')\n",
        "for item in items:\n",
        "  print(\"======================\")\n",
        "  print(item.find('realm_code').get_text())\n",
        "  print(item.find('sect_nm').get_text())\n",
        "  print(item.find('bgamt').get_text())\n",
        "  print(item.find('stdr_de').get_text())\n",
        "  print(item.find('realm_nm').get_text())\n",
        "  print(item.find('bsnsyear').get_text())\n",
        "  print(item.find('sect_code').get_text())"
      ],
      "metadata": {
        "colab": {
          "base_uri": "https://localhost:8080/"
        },
        "id": "wS955oDEHWiw",
        "outputId": "e239e7b8-d4ca-42f7-b54d-8f8bb2db9df6"
      },
      "execution_count": 66,
      "outputs": [
        {
          "output_type": "stream",
          "name": "stdout",
          "text": [
            "성공\n",
            "======================\n",
            "010\n",
            "입법및선거관리\n",
            "571\n",
            "20220414\n",
            "일반·지방행정\n",
            "2021\n",
            "011\n",
            "======================\n",
            "010\n",
            "국정운영\n",
            "11\n",
            "20220414\n",
            "일반·지방행정\n",
            "2021\n",
            "012\n",
            "======================\n",
            "010\n",
            "지방행정·재정지원\n",
            "17776\n",
            "20220414\n",
            "일반·지방행정\n",
            "2021\n",
            "013\n",
            "======================\n",
            "010\n",
            "재정·금융\n",
            "329\n",
            "20220414\n",
            "일반·지방행정\n",
            "2021\n",
            "014\n",
            "======================\n",
            "010\n",
            "정부자원관리\n",
            "190\n",
            "20220414\n",
            "일반·지방행정\n",
            "2021\n",
            "015\n",
            "======================\n",
            "010\n",
            "일반행정\n",
            "590\n",
            "20220414\n",
            "일반·지방행정\n",
            "2021\n",
            "016\n",
            "======================\n",
            "020\n",
            "법원및헌재\n",
            "273\n",
            "20220414\n",
            "공공질서및안전\n",
            "2021\n",
            "021\n",
            "======================\n",
            "020\n",
            "법무및검찰\n",
            "1955\n",
            "20220414\n",
            "공공질서및안전\n",
            "2021\n",
            "022\n",
            "======================\n",
            "020\n",
            "경찰\n",
            "901\n",
            "20220414\n",
            "공공질서및안전\n",
            "2021\n",
            "023\n",
            "======================\n",
            "020\n",
            "해경\n",
            "33\n",
            "20220414\n",
            "공공질서및안전\n",
            "2021\n",
            "024\n"
          ]
        }
      ]
    },
    {
      "cell_type": "code",
      "source": [
        "#json\n",
        "site_url= 'http://apis.data.go.kr/1051000/MoefOpenAPI/T_OPD_PRMSCT_SBBGST'\n",
        "page_param= 'pageNo=1'\n",
        "rows_param= 'numOfRows=10'\n",
        "resulttype_prarm= 'resultType=json'\n",
        "year_param= 'bsnsyear=2021'\n",
        "catagory_param= 'realm_nm=일반·지방행정'\n",
        "catagory_param2 = urllib.parse.quote(catagory_param)\n",
        "sk_param= 'serviceKey=Y5OJd2onMsLI8lXegBJBuwokLEvtik%2BvcgNbGerWSg%2FZ69vFdRVzpaAzVHSurt46FQukkhUDLL%2F1w4oMM86Ugg%3D%3D'\n",
        "query_str= site_url+'?'+sk_param+'&'+page_param+'&'+rows_param+'&'+resulttype_prarm+'&'+year_param+'&'+catagory_param2\n",
        "print(query_str)"
      ],
      "metadata": {
        "colab": {
          "base_uri": "https://localhost:8080/"
        },
        "id": "Db1GTMQKNAZd",
        "outputId": "67ecdaeb-3e88-48be-996d-a5efc734f30f"
      },
      "execution_count": 67,
      "outputs": [
        {
          "output_type": "stream",
          "name": "stdout",
          "text": [
            "http://apis.data.go.kr/1051000/MoefOpenAPI/T_OPD_PRMSCT_SBBGST?serviceKey=Y5OJd2onMsLI8lXegBJBuwokLEvtik%2BvcgNbGerWSg%2FZ69vFdRVzpaAzVHSurt46FQukkhUDLL%2F1w4oMM86Ugg%3D%3D&pageNo=1&numOfRows=10&resultType=json&bsnsyear=2021&realm_nm%3D%EC%9D%BC%EB%B0%98%C2%B7%EC%A7%80%EB%B0%A9%ED%96%89%EC%A0%95\n"
          ]
        }
      ]
    },
    {
      "cell_type": "code",
      "source": [
        "response = urllib.request.urlopen(query_str)\n",
        "if response.getcode() == 200:\n",
        "  print(\"성공\")\n",
        "else:\n",
        "  print(\"실패\")\n",
        "data = response.read().decode('utf-8')\n",
        "\n",
        "docs = json.loads(data)\n",
        "\n",
        "my_data = docs['response']['body']['items']['item']\n",
        "for e in my_data:\n",
        "  print(e)"
      ],
      "metadata": {
        "colab": {
          "base_uri": "https://localhost:8080/"
        },
        "id": "fjDX-6kdNsYJ",
        "outputId": "8e401322-1a63-4a34-fb47-801c6468202f"
      },
      "execution_count": 70,
      "outputs": [
        {
          "output_type": "stream",
          "name": "stdout",
          "text": [
            "성공\n",
            "{'bsnsyear': '2021', 'realmCode': '010', 'bgamt': '571', 'realmNm': '일반·지방행정', 'sectNm': '입법및선거관리', 'stdrDe': '20220414', 'sectCode': '011'}\n",
            "{'bsnsyear': '2021', 'realmCode': '010', 'bgamt': '11', 'realmNm': '일반·지방행정', 'sectNm': '국정운영', 'stdrDe': '20220414', 'sectCode': '012'}\n",
            "{'bsnsyear': '2021', 'realmCode': '010', 'bgamt': '17776', 'realmNm': '일반·지방행정', 'sectNm': '지방행정·재정지원', 'stdrDe': '20220414', 'sectCode': '013'}\n",
            "{'bsnsyear': '2021', 'realmCode': '010', 'bgamt': '329', 'realmNm': '일반·지방행정', 'sectNm': '재정·금융', 'stdrDe': '20220414', 'sectCode': '014'}\n",
            "{'bsnsyear': '2021', 'realmCode': '010', 'bgamt': '190', 'realmNm': '일반·지방행정', 'sectNm': '정부자원관리', 'stdrDe': '20220414', 'sectCode': '015'}\n",
            "{'bsnsyear': '2021', 'realmCode': '010', 'bgamt': '590', 'realmNm': '일반·지방행정', 'sectNm': '일반행정', 'stdrDe': '20220414', 'sectCode': '016'}\n",
            "{'bsnsyear': '2021', 'realmCode': '020', 'bgamt': '273', 'realmNm': '공공질서및안전', 'sectNm': '법원및헌재', 'stdrDe': '20220414', 'sectCode': '021'}\n",
            "{'bsnsyear': '2021', 'realmCode': '020', 'bgamt': '1955', 'realmNm': '공공질서및안전', 'sectNm': '법무및검찰', 'stdrDe': '20220414', 'sectCode': '022'}\n",
            "{'bsnsyear': '2021', 'realmCode': '020', 'bgamt': '901', 'realmNm': '공공질서및안전', 'sectNm': '경찰', 'stdrDe': '20220414', 'sectCode': '023'}\n",
            "{'bsnsyear': '2021', 'realmCode': '020', 'bgamt': '33', 'realmNm': '공공질서및안전', 'sectNm': '해경', 'stdrDe': '20220414', 'sectCode': '024'}\n"
          ]
        }
      ]
    },
    {
      "cell_type": "code",
      "source": [
        ""
      ],
      "metadata": {
        "id": "R67IpGCHQB5O"
      },
      "execution_count": null,
      "outputs": []
    }
  ]
}