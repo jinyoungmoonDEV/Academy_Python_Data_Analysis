{
  "nbformat": 4,
  "nbformat_minor": 0,
  "metadata": {
    "colab": {
      "name": "Home.ipynb",
      "provenance": [],
      "collapsed_sections": [],
      "authorship_tag": "ABX9TyMztJhjbAxNe06CCEnWOEYo",
      "include_colab_link": true
    },
    "kernelspec": {
      "name": "python3",
      "display_name": "Python 3"
    },
    "language_info": {
      "name": "python"
    }
  },
  "cells": [
    {
      "cell_type": "markdown",
      "metadata": {
        "id": "view-in-github",
        "colab_type": "text"
      },
      "source": [
        "<a href=\"https://colab.research.google.com/github/jinyoungmoonDEV/Academy_Python_Data_Analysis/blob/main/Home.ipynb\" target=\"_parent\"><img src=\"https://colab.research.google.com/assets/colab-badge.svg\" alt=\"Open In Colab\"/></a>"
      ]
    },
    {
      "cell_type": "code",
      "execution_count": 73,
      "metadata": {
        "id": "f4tEbbibXpDM"
      },
      "outputs": [],
      "source": [
        "import urllib.request"
      ]
    },
    {
      "cell_type": "code",
      "source": [
        "site_url = 'https://api.odcloud.kr/api/gov24/v1/serviceList'\n",
        "page_param = 'page=1'\n",
        "perpage_param = 'perPage=10'\n",
        "sk_param = 'serviceKey=Y5OJd2onMsLI8lXegBJBuwokLEvtik%2BvcgNbGerWSg%2FZ69vFdRVzpaAzVHSurt46FQukkhUDLL%2F1w4oMM86Ugg%3D%3D'\n",
        "query_str = site_url+'?'+page_param + \"&\"+perpage_param+'&'+sk_param\n",
        "print(query_str)"
      ],
      "metadata": {
        "colab": {
          "base_uri": "https://localhost:8080/"
        },
        "id": "un077-tiXzml",
        "outputId": "78284c12-d1a9-438a-8a48-623a3d2748de"
      },
      "execution_count": 52,
      "outputs": [
        {
          "output_type": "stream",
          "name": "stdout",
          "text": [
            "https://api.odcloud.kr/api/gov24/v1/serviceList?page=1&perPage=10&serviceKey=Y5OJd2onMsLI8lXegBJBuwokLEvtik%2BvcgNbGerWSg%2FZ69vFdRVzpaAzVHSurt46FQukkhUDLL%2F1w4oMM86Ugg%3D%3D\n"
          ]
        }
      ]
    },
    {
      "cell_type": "code",
      "source": [
        "response = urllib.request.urlopen(query_str)\n",
        "if response.getcode()!=200:\n",
        "  print(\"실패\")\n",
        "else:\n",
        "  print(\"성공\")"
      ],
      "metadata": {
        "colab": {
          "base_uri": "https://localhost:8080/"
        },
        "id": "rdpX55PBY6rg",
        "outputId": "f5616700-b0bd-4d95-b914-db42c0d63ebc"
      },
      "execution_count": 78,
      "outputs": [
        {
          "output_type": "stream",
          "name": "stdout",
          "text": [
            "성공\n"
          ]
        }
      ]
    },
    {
      "cell_type": "code",
      "source": [
        "import json"
      ],
      "metadata": {
        "id": "NKQC6OzsmV1X"
      },
      "execution_count": 70,
      "outputs": []
    },
    {
      "cell_type": "code",
      "source": [
        "data = response.read().decode('utf-8')\n",
        "\n",
        "docs = json.loads(data)\n",
        "\n",
        "datas = docs['data']\n",
        "\n",
        "for item in datas:\n",
        "  print(item['부서명'])\n",
        "  print(\"\\n\")\n",
        "  print(item['상세조회URL'])\n",
        "  print(\"\\n\")\n",
        "  print(item['서비스ID'])\n",
        "  print(\"\\n\")\n",
        "  print(item['서비스명'])\n",
        "  print(\"\\n\")\n",
        "  print(item['서비스목적'])\n",
        "  print(\"\\n\")\n",
        "  print(item['선정기준'])\n",
        "  print(\"\\n\")\n",
        "  print(item['소관기관명'])\n",
        "  print(\"\\n\")\n",
        "  print(item['소관기관코드'])\n",
        "  print(\"\\n\")\n",
        "  print(item['신청기한'])\n",
        "  print(\"\\n\")\n",
        "  print(item['신청방법'])\n",
        "  print(\"\\n\")\n",
        "  print(item['조회수'])\n",
        "  print(\"\\n\")\n",
        "  print(item['지원내용'])\n",
        "  print(\"\\n\")\n",
        "  print(item['지원대상'])\n",
        "  print(\"\\n\")\n",
        "  print(item['지원유형'])\n",
        "  print(\"\\n\")"
      ],
      "metadata": {
        "id": "aqWrNsbJl2ne"
      },
      "execution_count": null,
      "outputs": []
    },
    {
      "cell_type": "code",
      "source": [
        "#xml\n",
        "from bs4 import BeautifulSoup\n",
        "client_id = 'Xxhh8sGYq1WU1pdXdUqB'\n",
        "client_seceret = 'x45nnxHUyq'\n",
        "site_url = 'https://openapi.naver.com/v1/search/book.xml'\n",
        "query = input(\"검색어:\")\n",
        "q_param = \"query=\"+urllib.parse.quote(query)\n",
        "print(q_param)\n",
        "query_str = site_url+'?'+q_param\n",
        "print(query_str)\n",
        "cid='X-Naver-Client-Id'\n",
        "csec = 'X-Naver-Client-Secret'\n",
        "request = urllib.request.Request(query_str) #요청 가능한 개체 생성\n",
        "request.add_header(cid,client_id) #해더에 client id 추가\n",
        "request.add_header(csec,client_seceret) # 해더 clientseceret 추가\n",
        "response = urllib.request.urlopen(request)#웹 페이지에 요청\n",
        "if response.getcode() != 200:\n",
        "  print(\"요청 실패!!\")\n",
        "else:\n",
        "  print(\"성공!!\")\n",
        "data = response.read().decode('utf-8')\n",
        "print(data)\n",
        "hdoc = BeautifulSoup(data,'html.parser')\n",
        "print(hdoc)\n",
        "items = hdoc.find_all('item')\n",
        "print(len(items),type(items))\n",
        "for item in items:\n",
        "  print(\"======================\")\n",
        "  print(item.find('title').get_text())\n",
        "  print(item.find('author').get_text())\n",
        "  print(item.find('price').get_text())"
      ],
      "metadata": {
        "colab": {
          "base_uri": "https://localhost:8080/"
        },
        "id": "aGCEcrghuQP9",
        "outputId": "049f67d4-9ef3-4692-9e58-c464d54d9845"
      },
      "execution_count": 80,
      "outputs": [
        {
          "output_type": "stream",
          "name": "stdout",
          "text": [
            "검색어:파이썬\n",
            "query=%ED%8C%8C%EC%9D%B4%EC%8D%AC\n",
            "https://openapi.naver.com/v1/search/book.xml?query=%ED%8C%8C%EC%9D%B4%EC%8D%AC\n",
            "성공!!\n",
            "<?xml version=\"1.0\" encoding=\"UTF-8\"?><rss version=\"2.0\"><channel><title>Naver Open API - book ::'파이썬'</title><link>https://search.naver.com</link><description>Naver Search Result</description><lastBuildDate>Sun, 08 May 2022 22:15:31 +0900</lastBuildDate><total>1565</total><start>1</start><display>10</display><item><title>만들면서 배우는 &lt;b&gt;파이썬&lt;/b&gt;과 40개의 작품들 (자동화, 크롤링, 이미지처리, 데이터분석, 웹페이지, GUI 프로그램, 게임)</title><link>http://book.naver.com/bookdb/book_detail.php?bid=21982844</link><image>https://bookthumb-phinf.pstatic.net/cover/219/828/21982844.jpg?type=m1&amp;udate=20220503</image><author>장문철</author><price>18800</price><discount>16920</discount><publisher>앤써북</publisher><pubdate>20220228</pubdate><isbn>1185553932 9791185553931</isbn><description>이 책은 내 업무와 생활에 바로 적용할 수 있는 40개의 프로그램을 직접 코딩해서 만들어보고, 동시에 &lt;b&gt;파이썬&lt;/b&gt;을 자연스럽게 이해할 수 있게 구성하였다!&lt;b&gt;파이썬&lt;/b&gt; 기초 문법 떼고 자동화, 크롤링, 이미지처리, 데이터분석, 웹페이지, GUI 프로그램, 게임, 인공지능 관련 40개 프로그램 직접 &lt;b&gt;파이썬&lt;/b&gt; 코딩하며 만들어... </description></item><item><title>Do it! 점프 투 &lt;b&gt;파이썬&lt;/b&gt;</title><link>http://book.naver.com/bookdb/book_detail.php?bid=15052904</link><image>https://bookthumb-phinf.pstatic.net/cover/150/529/15052904.jpg?type=m1&amp;udate=20200910</image><author>박응용</author><price>18800</price><discount>16920</discount><publisher>이지스퍼블리싱</publisher><pubdate>20190620</pubdate><isbn>1163030910 9791163030911</isbn><description>&lt;b&gt;파이썬&lt;/b&gt; 4년 연속 베스트셀러 1위!\n",
            "《DO IT! 점프 투 &lt;b&gt;파이썬&lt;/b&gt;》 전면 개정판 출시!문과생도 중고등학생도 직장인도 프로그래밍에 눈뜨게 만든 바로 그 책이... 점프 투 &lt;b&gt;파이썬&lt;/b&gt;》으로 출간되었던 이 책은 약 4년 동안의 피드백을 반영하여 초보자가 더 빠르게 입문하고, 더 깊이 있게 공부할 수 있도록 개정되었다.... </description></item><item><title>이것이 취업을 위한 코딩 테스트다 with &lt;b&gt;파이썬&lt;/b&gt; (취업과 이직을 결정하는 알고리즘 인터뷰 완벽 가이드)</title><link>http://book.naver.com/bookdb/book_detail.php?bid=16439154</link><image>https://bookthumb-phinf.pstatic.net/cover/164/391/16439154.jpg?type=m1&amp;udate=20200928</image><author>나동빈</author><price>34000</price><discount>30600</discount><publisher>한빛미디어</publisher><pubdate>20200805</pubdate><isbn>1162243074 9791162243077</isbn><description>8가지 핵심 알고리즘 이론을 쉽게 설명하고, 관련 실전 문제를 풀이했다. 출제 유형 분석, 이론 설명, 기출문제 풀이까지! 어떤 코딩 테스트도 이 책 한 권으로 대비할 수 있을 것이다. 코딩 테스트에서 주로 선택하는 &lt;b&gt;파이썬&lt;/b&gt;을 기반으로 설명되어 있으며, &lt;b&gt;파이썬&lt;/b&gt; 코드 외에도 C/C++, 자바 코드를 추가로 제공한다.</description></item><item><title>혼자 공부하는 &lt;b&gt;파이썬&lt;/b&gt; (&lt;b&gt;파이썬&lt;/b&gt; 최신 버전 반영)</title><link>http://book.naver.com/bookdb/book_detail.php?bid=15028688</link><image>https://bookthumb-phinf.pstatic.net/cover/150/286/15028688.jpg?type=m1&amp;udate=20220129</image><author>윤인성</author><price>18000</price><discount>16200</discount><publisher>한빛미디어</publisher><pubdate>20190610</pubdate><isbn>1162241888 9791162241882</isbn><description>1:1 과외하듯 배우는 &lt;b&gt;파이썬&lt;/b&gt; 프로그래밍 자습서(&lt;b&gt;파이썬&lt;/b&gt; 최신 버전 반영)\n",
            "27명의 베타리더 검증으로, ‘함께 만든’ 입문자 맞춤형 도서\n",
            "\n",
            "이 책은 독학으로 프로그래밍 언어를 처음 배우려는 입문자가, 혹은 &lt;b&gt;파이썬&lt;/b&gt;을 배우려는 입문자가 ‘꼭 필요한 내용을 제대로’ 학습할 수 있도록 구성했다. ‘무엇을’... </description></item><item><title>&lt;b&gt;파이썬&lt;/b&gt; for Beginner (쉽고 빠르게 익히는 프로그래밍의 기본 원리)</title><link>http://book.naver.com/bookdb/book_detail.php?bid=21371083</link><image>https://bookthumb-phinf.pstatic.net/cover/213/710/21371083.jpg?type=m1&amp;udate=20211223</image><author>우재남</author><price>25000</price><discount>25000</discount><publisher>한빛아카데미</publisher><pubdate>20220103</pubdate><isbn>1156645743 9791156645740</isbn><description>일단 따라하면 바로 이해되는 &lt;b&gt;파이썬&lt;/b&gt; 프로그래밍&lt;b&gt;파이썬&lt;/b&gt;을 처음 접하는 독자를 대상으로 일대일 수업처럼 자세히 설명한 책입니다.꼭 알아야 할 핵심... 일단 코드를 입력하고 실행하다 보면 어느새 &lt;b&gt;파이썬&lt;/b&gt; 프로그래밍과 친숙해져 있을 것입니다!※ 본 도서는 대학 강의용 교재로 개발되었으므로 연습문제 해답은... </description></item><item><title>&lt;b&gt;파이썬&lt;/b&gt; 알고리즘 인터뷰 (95가지 알고리즘 문제 풀이로 완성하는 코딩 테스트)</title><link>http://book.naver.com/bookdb/book_detail.php?bid=16406247</link><image>https://bookthumb-phinf.pstatic.net/cover/164/062/16406247.jpg?type=m1&amp;udate=20220323</image><author>박상길</author><price>38000</price><discount>34200</discount><publisher>책만</publisher><pubdate>20200715</pubdate><isbn>1189909170 9791189909178</isbn><description>물론, &lt;b&gt;파이썬&lt;/b&gt;으로 구현하는 코드 풀이를 통해 성능 최적화 기법, &lt;b&gt;파이썬&lt;/b&gt;의 핵심 문법과 다양한 실용 테크닉까지 배울 수 있는, 초보 개발자와 숙련 개발자... 이 책은 현업과 실무에 유용한 주요 알고리즘 이론을 깊숙이 이해하고, &lt;b&gt;파이썬&lt;/b&gt;의 핵심 기능과 문법까지 상세하게 이해할 수 있는 취업용 코딩 테스트를... </description></item><item><title>모두의 &lt;b&gt;파이썬&lt;/b&gt; (20일 만에 배우는 프로그래밍 기초)</title><link>http://book.naver.com/bookdb/book_detail.php?bid=14126163</link><image>https://bookthumb-phinf.pstatic.net/cover/141/261/14126163.jpg?type=m1&amp;udate=20210210</image><author>이승찬</author><price>12000</price><discount>10800</discount><publisher>길벗</publisher><pubdate>20181009</pubdate><isbn>1160505853 9791160505856</isbn><description>&lt;b&gt;파이썬&lt;/b&gt; 분야 &amp; 어린이 코딩 교육 분야\n",
            "2년 연속 베스트셀러! 개정판 출간!\n",
            "즐겁게 시작하는 나의 첫 프로그래밍!\n",
            "프로그래밍을 한 번도 해본 적이 없어도 괜찮다. &lt;b&gt;파이썬&lt;/b&gt;이 무엇인지 몰라도 상관 없다.... 어느새 &lt;b&gt;파이썬&lt;/b&gt; 프로그램으로 멋진 그림을 그리고, 계산을 하고, 간단한 게임을 만들고, 수학 문제를... </description></item><item><title>한 권으로 끝내는 아두이노와 &lt;b&gt;파이썬&lt;/b&gt;으로 52개 작품 만들기</title><link>http://book.naver.com/bookdb/book_detail.php?bid=22046408</link><image>https://bookthumb-phinf.pstatic.net/cover/220/464/22046408.jpg?type=m1&amp;udate=20220301</image><author>장문철|박준원</author><price>22000</price><discount>19800</discount><publisher>앤써북</publisher><pubdate>20220330</pubdate><isbn>1185553940 9791185553948</isbn><description>이 책은 아두이노를 사용하여 하드웨어를 만들고 &lt;b&gt;파이썬&lt;/b&gt;을 이용하여 PC에서 프로그램을 만든 후 서로 통신 및 융합하여 52가지 다양한 작품 만들기를 통해 재미와 학습 두 가지를 모두 할 수 있게 구성하였습니다!</description></item><item><title>머신 러닝 교과서 with &lt;b&gt;파이썬&lt;/b&gt;, 사이킷런, 텐서플로 (최신 넘파이, 사이킷런, 텐서플로 2로 배우는 머신 러닝, 딥러닝 핵심 알고)</title><link>http://book.naver.com/bookdb/book_detail.php?bid=18829375</link><image>https://bookthumb-phinf.pstatic.net/cover/188/293/18829375.jpg?type=m1&amp;udate=20211207</image><author>세바스찬 라시카|바히드 미자리리</author><price>44000</price><discount>39600</discount><publisher>길벗</publisher><pubdate>20210331</pubdate><isbn>1165215187 9791165215187</isbn><description>&lt;b&gt;파이썬&lt;/b&gt; 언어와 &lt;b&gt;파이썬&lt;/b&gt; 기반의 머신 러닝 핵심 라이브러리(SciPy, NumPy, scikit-learn, Matplotlib, Pandas)를 사용해 머신 러닝을, 텐서플로(TensorFlow 2)를 사용해 딥러닝을 실습해본다. 특히 딥러닝은 최신 텐서플로 2에 맞춰 대폭 수정 및 보강되었다. 그러고 나서 GAN과 강화 학습도 자세하게 다룬다. 머신 러닝과... </description></item><item><title>암호화폐 자동매매 시스템 만들기 with &lt;b&gt;파이썬&lt;/b&gt; (대량의 시뮬레이션과 최적화 전략까지)</title><link>http://book.naver.com/bookdb/book_detail.php?bid=22017285</link><image>https://bookthumb-phinf.pstatic.net/cover/220/172/22017285.jpg?type=m1&amp;udate=20220222</image><author>정성문</author><price>35000</price><discount>31500</discount><publisher>로드북</publisher><pubdate>20220302</pubdate><isbn>8997924966 9788997924967</isbn><description>&lt;b&gt;파이썬&lt;/b&gt;의 기본적인 문법부터 설명하고 있지만 대부분은 실제 코드를 개발하는 과정과 함께 &lt;b&gt;파이썬&lt;/b&gt;을 학습할 수 있도록 하였다. 모든 과정에는 바로 실행해... 프로그램을 바로 사용하고자 하는 개발자나 실습 위주로 &lt;b&gt;파이썬&lt;/b&gt;을 학습해보고자 하는 사람에게 적합하다._대상 독자&lt;b&gt;파이썬&lt;/b&gt;으로 자신만의 암호화폐... </description></item></channel></rss>\n",
            "<?xml version=\"1.0\" encoding=\"UTF-8\"?><rss version=\"2.0\"><channel><title>Naver Open API - book ::'파이썬'</title><link/>https://search.naver.com<description>Naver Search Result</description><lastbuilddate>Sun, 08 May 2022 22:15:31 +0900</lastbuilddate><total>1565</total><start>1</start><display>10</display><item><title>만들면서 배우는 &lt;b&gt;파이썬&lt;/b&gt;과 40개의 작품들 (자동화, 크롤링, 이미지처리, 데이터분석, 웹페이지, GUI 프로그램, 게임)</title><link/>http://book.naver.com/bookdb/book_detail.php?bid=21982844<image/>https://bookthumb-phinf.pstatic.net/cover/219/828/21982844.jpg?type=m1&amp;udate=20220503<author>장문철</author><price>18800</price><discount>16920</discount><publisher>앤써북</publisher><pubdate>20220228</pubdate><isbn>1185553932 9791185553931</isbn><description>이 책은 내 업무와 생활에 바로 적용할 수 있는 40개의 프로그램을 직접 코딩해서 만들어보고, 동시에 &lt;b&gt;파이썬&lt;/b&gt;을 자연스럽게 이해할 수 있게 구성하였다!&lt;b&gt;파이썬&lt;/b&gt; 기초 문법 떼고 자동화, 크롤링, 이미지처리, 데이터분석, 웹페이지, GUI 프로그램, 게임, 인공지능 관련 40개 프로그램 직접 &lt;b&gt;파이썬&lt;/b&gt; 코딩하며 만들어... </description></item><item><title>Do it! 점프 투 &lt;b&gt;파이썬&lt;/b&gt;</title><link/>http://book.naver.com/bookdb/book_detail.php?bid=15052904<image/>https://bookthumb-phinf.pstatic.net/cover/150/529/15052904.jpg?type=m1&amp;udate=20200910<author>박응용</author><price>18800</price><discount>16920</discount><publisher>이지스퍼블리싱</publisher><pubdate>20190620</pubdate><isbn>1163030910 9791163030911</isbn><description>&lt;b&gt;파이썬&lt;/b&gt; 4년 연속 베스트셀러 1위!\n",
            "《DO IT! 점프 투 &lt;b&gt;파이썬&lt;/b&gt;》 전면 개정판 출시!문과생도 중고등학생도 직장인도 프로그래밍에 눈뜨게 만든 바로 그 책이... 점프 투 &lt;b&gt;파이썬&lt;/b&gt;》으로 출간되었던 이 책은 약 4년 동안의 피드백을 반영하여 초보자가 더 빠르게 입문하고, 더 깊이 있게 공부할 수 있도록 개정되었다.... </description></item><item><title>이것이 취업을 위한 코딩 테스트다 with &lt;b&gt;파이썬&lt;/b&gt; (취업과 이직을 결정하는 알고리즘 인터뷰 완벽 가이드)</title><link/>http://book.naver.com/bookdb/book_detail.php?bid=16439154<image/>https://bookthumb-phinf.pstatic.net/cover/164/391/16439154.jpg?type=m1&amp;udate=20200928<author>나동빈</author><price>34000</price><discount>30600</discount><publisher>한빛미디어</publisher><pubdate>20200805</pubdate><isbn>1162243074 9791162243077</isbn><description>8가지 핵심 알고리즘 이론을 쉽게 설명하고, 관련 실전 문제를 풀이했다. 출제 유형 분석, 이론 설명, 기출문제 풀이까지! 어떤 코딩 테스트도 이 책 한 권으로 대비할 수 있을 것이다. 코딩 테스트에서 주로 선택하는 &lt;b&gt;파이썬&lt;/b&gt;을 기반으로 설명되어 있으며, &lt;b&gt;파이썬&lt;/b&gt; 코드 외에도 C/C++, 자바 코드를 추가로 제공한다.</description></item><item><title>혼자 공부하는 &lt;b&gt;파이썬&lt;/b&gt; (&lt;b&gt;파이썬&lt;/b&gt; 최신 버전 반영)</title><link/>http://book.naver.com/bookdb/book_detail.php?bid=15028688<image/>https://bookthumb-phinf.pstatic.net/cover/150/286/15028688.jpg?type=m1&amp;udate=20220129<author>윤인성</author><price>18000</price><discount>16200</discount><publisher>한빛미디어</publisher><pubdate>20190610</pubdate><isbn>1162241888 9791162241882</isbn><description>1:1 과외하듯 배우는 &lt;b&gt;파이썬&lt;/b&gt; 프로그래밍 자습서(&lt;b&gt;파이썬&lt;/b&gt; 최신 버전 반영)\n",
            "27명의 베타리더 검증으로, ‘함께 만든’ 입문자 맞춤형 도서\n",
            "\n",
            "이 책은 독학으로 프로그래밍 언어를 처음 배우려는 입문자가, 혹은 &lt;b&gt;파이썬&lt;/b&gt;을 배우려는 입문자가 ‘꼭 필요한 내용을 제대로’ 학습할 수 있도록 구성했다. ‘무엇을’... </description></item><item><title>&lt;b&gt;파이썬&lt;/b&gt; for Beginner (쉽고 빠르게 익히는 프로그래밍의 기본 원리)</title><link/>http://book.naver.com/bookdb/book_detail.php?bid=21371083<image/>https://bookthumb-phinf.pstatic.net/cover/213/710/21371083.jpg?type=m1&amp;udate=20211223<author>우재남</author><price>25000</price><discount>25000</discount><publisher>한빛아카데미</publisher><pubdate>20220103</pubdate><isbn>1156645743 9791156645740</isbn><description>일단 따라하면 바로 이해되는 &lt;b&gt;파이썬&lt;/b&gt; 프로그래밍&lt;b&gt;파이썬&lt;/b&gt;을 처음 접하는 독자를 대상으로 일대일 수업처럼 자세히 설명한 책입니다.꼭 알아야 할 핵심... 일단 코드를 입력하고 실행하다 보면 어느새 &lt;b&gt;파이썬&lt;/b&gt; 프로그래밍과 친숙해져 있을 것입니다!※ 본 도서는 대학 강의용 교재로 개발되었으므로 연습문제 해답은... </description></item><item><title>&lt;b&gt;파이썬&lt;/b&gt; 알고리즘 인터뷰 (95가지 알고리즘 문제 풀이로 완성하는 코딩 테스트)</title><link/>http://book.naver.com/bookdb/book_detail.php?bid=16406247<image/>https://bookthumb-phinf.pstatic.net/cover/164/062/16406247.jpg?type=m1&amp;udate=20220323<author>박상길</author><price>38000</price><discount>34200</discount><publisher>책만</publisher><pubdate>20200715</pubdate><isbn>1189909170 9791189909178</isbn><description>물론, &lt;b&gt;파이썬&lt;/b&gt;으로 구현하는 코드 풀이를 통해 성능 최적화 기법, &lt;b&gt;파이썬&lt;/b&gt;의 핵심 문법과 다양한 실용 테크닉까지 배울 수 있는, 초보 개발자와 숙련 개발자... 이 책은 현업과 실무에 유용한 주요 알고리즘 이론을 깊숙이 이해하고, &lt;b&gt;파이썬&lt;/b&gt;의 핵심 기능과 문법까지 상세하게 이해할 수 있는 취업용 코딩 테스트를... </description></item><item><title>모두의 &lt;b&gt;파이썬&lt;/b&gt; (20일 만에 배우는 프로그래밍 기초)</title><link/>http://book.naver.com/bookdb/book_detail.php?bid=14126163<image/>https://bookthumb-phinf.pstatic.net/cover/141/261/14126163.jpg?type=m1&amp;udate=20210210<author>이승찬</author><price>12000</price><discount>10800</discount><publisher>길벗</publisher><pubdate>20181009</pubdate><isbn>1160505853 9791160505856</isbn><description>&lt;b&gt;파이썬&lt;/b&gt; 분야 &amp; 어린이 코딩 교육 분야\n",
            "2년 연속 베스트셀러! 개정판 출간!\n",
            "즐겁게 시작하는 나의 첫 프로그래밍!\n",
            "프로그래밍을 한 번도 해본 적이 없어도 괜찮다. &lt;b&gt;파이썬&lt;/b&gt;이 무엇인지 몰라도 상관 없다.... 어느새 &lt;b&gt;파이썬&lt;/b&gt; 프로그램으로 멋진 그림을 그리고, 계산을 하고, 간단한 게임을 만들고, 수학 문제를... </description></item><item><title>한 권으로 끝내는 아두이노와 &lt;b&gt;파이썬&lt;/b&gt;으로 52개 작품 만들기</title><link/>http://book.naver.com/bookdb/book_detail.php?bid=22046408<image/>https://bookthumb-phinf.pstatic.net/cover/220/464/22046408.jpg?type=m1&amp;udate=20220301<author>장문철|박준원</author><price>22000</price><discount>19800</discount><publisher>앤써북</publisher><pubdate>20220330</pubdate><isbn>1185553940 9791185553948</isbn><description>이 책은 아두이노를 사용하여 하드웨어를 만들고 &lt;b&gt;파이썬&lt;/b&gt;을 이용하여 PC에서 프로그램을 만든 후 서로 통신 및 융합하여 52가지 다양한 작품 만들기를 통해 재미와 학습 두 가지를 모두 할 수 있게 구성하였습니다!</description></item><item><title>머신 러닝 교과서 with &lt;b&gt;파이썬&lt;/b&gt;, 사이킷런, 텐서플로 (최신 넘파이, 사이킷런, 텐서플로 2로 배우는 머신 러닝, 딥러닝 핵심 알고)</title><link/>http://book.naver.com/bookdb/book_detail.php?bid=18829375<image/>https://bookthumb-phinf.pstatic.net/cover/188/293/18829375.jpg?type=m1&amp;udate=20211207<author>세바스찬 라시카|바히드 미자리리</author><price>44000</price><discount>39600</discount><publisher>길벗</publisher><pubdate>20210331</pubdate><isbn>1165215187 9791165215187</isbn><description>&lt;b&gt;파이썬&lt;/b&gt; 언어와 &lt;b&gt;파이썬&lt;/b&gt; 기반의 머신 러닝 핵심 라이브러리(SciPy, NumPy, scikit-learn, Matplotlib, Pandas)를 사용해 머신 러닝을, 텐서플로(TensorFlow 2)를 사용해 딥러닝을 실습해본다. 특히 딥러닝은 최신 텐서플로 2에 맞춰 대폭 수정 및 보강되었다. 그러고 나서 GAN과 강화 학습도 자세하게 다룬다. 머신 러닝과... </description></item><item><title>암호화폐 자동매매 시스템 만들기 with &lt;b&gt;파이썬&lt;/b&gt; (대량의 시뮬레이션과 최적화 전략까지)</title><link/>http://book.naver.com/bookdb/book_detail.php?bid=22017285<image/>https://bookthumb-phinf.pstatic.net/cover/220/172/22017285.jpg?type=m1&amp;udate=20220222<author>정성문</author><price>35000</price><discount>31500</discount><publisher>로드북</publisher><pubdate>20220302</pubdate><isbn>8997924966 9788997924967</isbn><description>&lt;b&gt;파이썬&lt;/b&gt;의 기본적인 문법부터 설명하고 있지만 대부분은 실제 코드를 개발하는 과정과 함께 &lt;b&gt;파이썬&lt;/b&gt;을 학습할 수 있도록 하였다. 모든 과정에는 바로 실행해... 프로그램을 바로 사용하고자 하는 개발자나 실습 위주로 &lt;b&gt;파이썬&lt;/b&gt;을 학습해보고자 하는 사람에게 적합하다._대상 독자&lt;b&gt;파이썬&lt;/b&gt;으로 자신만의 암호화폐... </description></item></channel></rss>\n",
            "10 <class 'bs4.element.ResultSet'>\n",
            "======================\n",
            "만들면서 배우는 <b>파이썬</b>과 40개의 작품들 (자동화, 크롤링, 이미지처리, 데이터분석, 웹페이지, GUI 프로그램, 게임)\n",
            "장문철\n",
            "18800\n",
            "======================\n",
            "Do it! 점프 투 <b>파이썬</b>\n",
            "박응용\n",
            "18800\n",
            "======================\n",
            "이것이 취업을 위한 코딩 테스트다 with <b>파이썬</b> (취업과 이직을 결정하는 알고리즘 인터뷰 완벽 가이드)\n",
            "나동빈\n",
            "34000\n",
            "======================\n",
            "혼자 공부하는 <b>파이썬</b> (<b>파이썬</b> 최신 버전 반영)\n",
            "윤인성\n",
            "18000\n",
            "======================\n",
            "<b>파이썬</b> for Beginner (쉽고 빠르게 익히는 프로그래밍의 기본 원리)\n",
            "우재남\n",
            "25000\n",
            "======================\n",
            "<b>파이썬</b> 알고리즘 인터뷰 (95가지 알고리즘 문제 풀이로 완성하는 코딩 테스트)\n",
            "박상길\n",
            "38000\n",
            "======================\n",
            "모두의 <b>파이썬</b> (20일 만에 배우는 프로그래밍 기초)\n",
            "이승찬\n",
            "12000\n",
            "======================\n",
            "한 권으로 끝내는 아두이노와 <b>파이썬</b>으로 52개 작품 만들기\n",
            "장문철|박준원\n",
            "22000\n",
            "======================\n",
            "머신 러닝 교과서 with <b>파이썬</b>, 사이킷런, 텐서플로 (최신 넘파이, 사이킷런, 텐서플로 2로 배우는 머신 러닝, 딥러닝 핵심 알고)\n",
            "세바스찬 라시카|바히드 미자리리\n",
            "44000\n",
            "======================\n",
            "암호화폐 자동매매 시스템 만들기 with <b>파이썬</b> (대량의 시뮬레이션과 최적화 전략까지)\n",
            "정성문\n",
            "35000\n"
          ]
        }
      ]
    }
  ]
}